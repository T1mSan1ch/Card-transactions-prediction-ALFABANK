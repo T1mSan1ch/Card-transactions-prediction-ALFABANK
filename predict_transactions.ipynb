{
  "nbformat": 4,
  "nbformat_minor": 0,
  "metadata": {
    "colab": {
      "provenance": [],
      "collapsed_sections": [
        "k-6AdRvAxbC-",
        "6v2-vV0irJPi",
        "0IpGe7xazxHy",
        "KqiHT18j9pEO",
        "yoJpXctoAepg"
      ]
    },
    "kernelspec": {
      "name": "python3",
      "display_name": "Python 3"
    },
    "language_info": {
      "name": "python"
    }
  },
  "cells": [
    {
      "cell_type": "markdown",
      "source": [
        "Лисоченко Тимофей. t.lisoch16@gmail.com"
      ],
      "metadata": {
        "id": "tiCWP339fGmr"
      }
    },
    {
      "cell_type": "markdown",
      "source": [
        "## __ИСТОЧНИКИ__  \n",
        "* [Исчерпывающий курс по статистике](https://github.com/FUlyankin/matstat-AB)  \n",
        "* [Лучший доклад про архитектуру трансформеров (BERT-like, GPT-3,4+ и т.д.) на руссском ](https://youtu.be/iOrNbK2T92M?si=gCJVpK5bc8SJb-NW)\n"
      ],
      "metadata": {
        "id": "40YxHR7ujFcr"
      }
    },
    {
      "cell_type": "markdown",
      "source": [
        "## NO-ML решение\n",
        "____\n",
        "Смотреть его. Нейросетевые решения приведены ниже, всего лишь, как попытка применить более продвинутые методы для данной задачи, как для задачи seq2seq"
      ],
      "metadata": {
        "id": "X8eAZ1o_5Cw5"
      }
    },
    {
      "cell_type": "markdown",
      "source": [
        "### Импорты и скачивание данных"
      ],
      "metadata": {
        "id": "vIqtUJHaXsHZ"
      }
    },
    {
      "cell_type": "code",
      "execution_count": null,
      "metadata": {
        "id": "PWuf3-_S8r8W"
      },
      "outputs": [],
      "source": [
        "import pandas as pd\n",
        "import numpy as np\n",
        "import matplotlib.pyplot as plt\n",
        "import seaborn as sns\n",
        "\n",
        "plt.style.use(['ggplot'])\n",
        "\n",
        "import warnings\n",
        "warnings.filterwarnings(\"ignore\")\n",
        "\n",
        "import scipy.stats as stats\n",
        "import statsmodels as sts\n",
        "import statistics"
      ]
    },
    {
      "cell_type": "code",
      "source": [
        "from google.colab import drive\n",
        "drive.mount('/content/drive/')"
      ],
      "metadata": {
        "colab": {
          "base_uri": "https://localhost:8080/"
        },
        "id": "Eo4kynxX9Y8y",
        "outputId": "46e255bf-b15b-4898-d23c-569e826b4c86"
      },
      "execution_count": null,
      "outputs": [
        {
          "output_type": "stream",
          "name": "stdout",
          "text": [
            "Drive already mounted at /content/drive/; to attempt to forcibly remount, call drive.mount(\"/content/drive/\", force_remount=True).\n"
          ]
        }
      ]
    },
    {
      "cell_type": "code",
      "source": [
        "test = pd.read_csv('/content/drive/MyDrive/Colab Notebooks/ALFABANK_CAMPUS/DATASETS/df_test.csv', sep=';')\n",
        "train = pd.read_csv('/content/drive/MyDrive/Colab Notebooks/ALFABANK_CAMPUS/DATASETS/df_train.csv', sep=';')"
      ],
      "metadata": {
        "id": "jf2zxNAT9zrk"
      },
      "execution_count": null,
      "outputs": []
    },
    {
      "cell_type": "markdown",
      "source": [
        "Создадим копии датафремов где строки будут списками"
      ],
      "metadata": {
        "id": "HFsKpH4stXKc"
      }
    },
    {
      "cell_type": "markdown",
      "source": [
        "* __Описание задачи__  \n",
        "Одним из самых ценных источников информации о клиенте являются данные о банковских транзакциях. В этом соревновании участникам предлагается предсказать будущие траты клиента, используя информацию о совершенных тратах.\n",
        "* __Цель__   \n",
        "Предсказать десять следующих транзакций клиента (mcc-кодов)  \n",
        "----  \n",
        "* __Посмотрим на данные__  \n",
        "По постановке задачи можно подумать, что работать придется с временными рядами, но нет(("
      ],
      "metadata": {
        "id": "5r9eDtfdraff"
      }
    },
    {
      "cell_type": "code",
      "source": [
        "train.head(5)"
      ],
      "metadata": {
        "colab": {
          "base_uri": "https://localhost:8080/",
          "height": 206
        },
        "id": "XItRXLOGrdYi",
        "outputId": "b4351893-2904-47ce-9f68-5a162586c4f0"
      },
      "execution_count": null,
      "outputs": [
        {
          "output_type": "execute_result",
          "data": {
            "text/plain": [
              "   Id                                               Data  \\\n",
              "0   0  4814,4814,6010,6011,4814,6011,6011,4814,6011,6...   \n",
              "1   1  6011,6011,6011,6011,6011,6011,6011,4814,4814,4...   \n",
              "2   2  8021,6011,6011,6010,4829,4814,6011,6011,6011,6...   \n",
              "3   3  4814,6011,4814,4814,4814,6011,6011,5691,5691,5...   \n",
              "4   4  4814,4814,4814,4814,4814,4814,5946,4814,4814,6...   \n",
              "\n",
              "                                              Target  \n",
              "0  4814,4814,4814,4814,5411,4814,4814,4814,4814,4814  \n",
              "1  4814,6011,4814,6011,4814,4814,6011,4814,6011,4814  \n",
              "2  6011,6011,6010,4829,4829,6010,6011,6011,4814,6011  \n",
              "3  6011,6011,6010,6011,6011,4814,4814,6011,4814,4814  \n",
              "4  5499,6011,4814,4829,5200,5411,5499,5912,5411,5912  "
            ],
            "text/html": [
              "\n",
              "  <div id=\"df-23fffd78-32ec-439b-962a-42264deb70d5\" class=\"colab-df-container\">\n",
              "    <div>\n",
              "<style scoped>\n",
              "    .dataframe tbody tr th:only-of-type {\n",
              "        vertical-align: middle;\n",
              "    }\n",
              "\n",
              "    .dataframe tbody tr th {\n",
              "        vertical-align: top;\n",
              "    }\n",
              "\n",
              "    .dataframe thead th {\n",
              "        text-align: right;\n",
              "    }\n",
              "</style>\n",
              "<table border=\"1\" class=\"dataframe\">\n",
              "  <thead>\n",
              "    <tr style=\"text-align: right;\">\n",
              "      <th></th>\n",
              "      <th>Id</th>\n",
              "      <th>Data</th>\n",
              "      <th>Target</th>\n",
              "    </tr>\n",
              "  </thead>\n",
              "  <tbody>\n",
              "    <tr>\n",
              "      <th>0</th>\n",
              "      <td>0</td>\n",
              "      <td>4814,4814,6010,6011,4814,6011,6011,4814,6011,6...</td>\n",
              "      <td>4814,4814,4814,4814,5411,4814,4814,4814,4814,4814</td>\n",
              "    </tr>\n",
              "    <tr>\n",
              "      <th>1</th>\n",
              "      <td>1</td>\n",
              "      <td>6011,6011,6011,6011,6011,6011,6011,4814,4814,4...</td>\n",
              "      <td>4814,6011,4814,6011,4814,4814,6011,4814,6011,4814</td>\n",
              "    </tr>\n",
              "    <tr>\n",
              "      <th>2</th>\n",
              "      <td>2</td>\n",
              "      <td>8021,6011,6011,6010,4829,4814,6011,6011,6011,6...</td>\n",
              "      <td>6011,6011,6010,4829,4829,6010,6011,6011,4814,6011</td>\n",
              "    </tr>\n",
              "    <tr>\n",
              "      <th>3</th>\n",
              "      <td>3</td>\n",
              "      <td>4814,6011,4814,4814,4814,6011,6011,5691,5691,5...</td>\n",
              "      <td>6011,6011,6010,6011,6011,4814,4814,6011,4814,4814</td>\n",
              "    </tr>\n",
              "    <tr>\n",
              "      <th>4</th>\n",
              "      <td>4</td>\n",
              "      <td>4814,4814,4814,4814,4814,4814,5946,4814,4814,6...</td>\n",
              "      <td>5499,6011,4814,4829,5200,5411,5499,5912,5411,5912</td>\n",
              "    </tr>\n",
              "  </tbody>\n",
              "</table>\n",
              "</div>\n",
              "    <div class=\"colab-df-buttons\">\n",
              "\n",
              "  <div class=\"colab-df-container\">\n",
              "    <button class=\"colab-df-convert\" onclick=\"convertToInteractive('df-23fffd78-32ec-439b-962a-42264deb70d5')\"\n",
              "            title=\"Convert this dataframe to an interactive table.\"\n",
              "            style=\"display:none;\">\n",
              "\n",
              "  <svg xmlns=\"http://www.w3.org/2000/svg\" height=\"24px\" viewBox=\"0 -960 960 960\">\n",
              "    <path d=\"M120-120v-720h720v720H120Zm60-500h600v-160H180v160Zm220 220h160v-160H400v160Zm0 220h160v-160H400v160ZM180-400h160v-160H180v160Zm440 0h160v-160H620v160ZM180-180h160v-160H180v160Zm440 0h160v-160H620v160Z\"/>\n",
              "  </svg>\n",
              "    </button>\n",
              "\n",
              "  <style>\n",
              "    .colab-df-container {\n",
              "      display:flex;\n",
              "      gap: 12px;\n",
              "    }\n",
              "\n",
              "    .colab-df-convert {\n",
              "      background-color: #E8F0FE;\n",
              "      border: none;\n",
              "      border-radius: 50%;\n",
              "      cursor: pointer;\n",
              "      display: none;\n",
              "      fill: #1967D2;\n",
              "      height: 32px;\n",
              "      padding: 0 0 0 0;\n",
              "      width: 32px;\n",
              "    }\n",
              "\n",
              "    .colab-df-convert:hover {\n",
              "      background-color: #E2EBFA;\n",
              "      box-shadow: 0px 1px 2px rgba(60, 64, 67, 0.3), 0px 1px 3px 1px rgba(60, 64, 67, 0.15);\n",
              "      fill: #174EA6;\n",
              "    }\n",
              "\n",
              "    .colab-df-buttons div {\n",
              "      margin-bottom: 4px;\n",
              "    }\n",
              "\n",
              "    [theme=dark] .colab-df-convert {\n",
              "      background-color: #3B4455;\n",
              "      fill: #D2E3FC;\n",
              "    }\n",
              "\n",
              "    [theme=dark] .colab-df-convert:hover {\n",
              "      background-color: #434B5C;\n",
              "      box-shadow: 0px 1px 3px 1px rgba(0, 0, 0, 0.15);\n",
              "      filter: drop-shadow(0px 1px 2px rgba(0, 0, 0, 0.3));\n",
              "      fill: #FFFFFF;\n",
              "    }\n",
              "  </style>\n",
              "\n",
              "    <script>\n",
              "      const buttonEl =\n",
              "        document.querySelector('#df-23fffd78-32ec-439b-962a-42264deb70d5 button.colab-df-convert');\n",
              "      buttonEl.style.display =\n",
              "        google.colab.kernel.accessAllowed ? 'block' : 'none';\n",
              "\n",
              "      async function convertToInteractive(key) {\n",
              "        const element = document.querySelector('#df-23fffd78-32ec-439b-962a-42264deb70d5');\n",
              "        const dataTable =\n",
              "          await google.colab.kernel.invokeFunction('convertToInteractive',\n",
              "                                                    [key], {});\n",
              "        if (!dataTable) return;\n",
              "\n",
              "        const docLinkHtml = 'Like what you see? Visit the ' +\n",
              "          '<a target=\"_blank\" href=https://colab.research.google.com/notebooks/data_table.ipynb>data table notebook</a>'\n",
              "          + ' to learn more about interactive tables.';\n",
              "        element.innerHTML = '';\n",
              "        dataTable['output_type'] = 'display_data';\n",
              "        await google.colab.output.renderOutput(dataTable, element);\n",
              "        const docLink = document.createElement('div');\n",
              "        docLink.innerHTML = docLinkHtml;\n",
              "        element.appendChild(docLink);\n",
              "      }\n",
              "    </script>\n",
              "  </div>\n",
              "\n",
              "\n",
              "<div id=\"df-ef8c697f-601f-4796-a7f4-8736ba69264f\">\n",
              "  <button class=\"colab-df-quickchart\" onclick=\"quickchart('df-ef8c697f-601f-4796-a7f4-8736ba69264f')\"\n",
              "            title=\"Suggest charts\"\n",
              "            style=\"display:none;\">\n",
              "\n",
              "<svg xmlns=\"http://www.w3.org/2000/svg\" height=\"24px\"viewBox=\"0 0 24 24\"\n",
              "     width=\"24px\">\n",
              "    <g>\n",
              "        <path d=\"M19 3H5c-1.1 0-2 .9-2 2v14c0 1.1.9 2 2 2h14c1.1 0 2-.9 2-2V5c0-1.1-.9-2-2-2zM9 17H7v-7h2v7zm4 0h-2V7h2v10zm4 0h-2v-4h2v4z\"/>\n",
              "    </g>\n",
              "</svg>\n",
              "  </button>\n",
              "\n",
              "<style>\n",
              "  .colab-df-quickchart {\n",
              "      --bg-color: #E8F0FE;\n",
              "      --fill-color: #1967D2;\n",
              "      --hover-bg-color: #E2EBFA;\n",
              "      --hover-fill-color: #174EA6;\n",
              "      --disabled-fill-color: #AAA;\n",
              "      --disabled-bg-color: #DDD;\n",
              "  }\n",
              "\n",
              "  [theme=dark] .colab-df-quickchart {\n",
              "      --bg-color: #3B4455;\n",
              "      --fill-color: #D2E3FC;\n",
              "      --hover-bg-color: #434B5C;\n",
              "      --hover-fill-color: #FFFFFF;\n",
              "      --disabled-bg-color: #3B4455;\n",
              "      --disabled-fill-color: #666;\n",
              "  }\n",
              "\n",
              "  .colab-df-quickchart {\n",
              "    background-color: var(--bg-color);\n",
              "    border: none;\n",
              "    border-radius: 50%;\n",
              "    cursor: pointer;\n",
              "    display: none;\n",
              "    fill: var(--fill-color);\n",
              "    height: 32px;\n",
              "    padding: 0;\n",
              "    width: 32px;\n",
              "  }\n",
              "\n",
              "  .colab-df-quickchart:hover {\n",
              "    background-color: var(--hover-bg-color);\n",
              "    box-shadow: 0 1px 2px rgba(60, 64, 67, 0.3), 0 1px 3px 1px rgba(60, 64, 67, 0.15);\n",
              "    fill: var(--button-hover-fill-color);\n",
              "  }\n",
              "\n",
              "  .colab-df-quickchart-complete:disabled,\n",
              "  .colab-df-quickchart-complete:disabled:hover {\n",
              "    background-color: var(--disabled-bg-color);\n",
              "    fill: var(--disabled-fill-color);\n",
              "    box-shadow: none;\n",
              "  }\n",
              "\n",
              "  .colab-df-spinner {\n",
              "    border: 2px solid var(--fill-color);\n",
              "    border-color: transparent;\n",
              "    border-bottom-color: var(--fill-color);\n",
              "    animation:\n",
              "      spin 1s steps(1) infinite;\n",
              "  }\n",
              "\n",
              "  @keyframes spin {\n",
              "    0% {\n",
              "      border-color: transparent;\n",
              "      border-bottom-color: var(--fill-color);\n",
              "      border-left-color: var(--fill-color);\n",
              "    }\n",
              "    20% {\n",
              "      border-color: transparent;\n",
              "      border-left-color: var(--fill-color);\n",
              "      border-top-color: var(--fill-color);\n",
              "    }\n",
              "    30% {\n",
              "      border-color: transparent;\n",
              "      border-left-color: var(--fill-color);\n",
              "      border-top-color: var(--fill-color);\n",
              "      border-right-color: var(--fill-color);\n",
              "    }\n",
              "    40% {\n",
              "      border-color: transparent;\n",
              "      border-right-color: var(--fill-color);\n",
              "      border-top-color: var(--fill-color);\n",
              "    }\n",
              "    60% {\n",
              "      border-color: transparent;\n",
              "      border-right-color: var(--fill-color);\n",
              "    }\n",
              "    80% {\n",
              "      border-color: transparent;\n",
              "      border-right-color: var(--fill-color);\n",
              "      border-bottom-color: var(--fill-color);\n",
              "    }\n",
              "    90% {\n",
              "      border-color: transparent;\n",
              "      border-bottom-color: var(--fill-color);\n",
              "    }\n",
              "  }\n",
              "</style>\n",
              "\n",
              "  <script>\n",
              "    async function quickchart(key) {\n",
              "      const quickchartButtonEl =\n",
              "        document.querySelector('#' + key + ' button');\n",
              "      quickchartButtonEl.disabled = true;  // To prevent multiple clicks.\n",
              "      quickchartButtonEl.classList.add('colab-df-spinner');\n",
              "      try {\n",
              "        const charts = await google.colab.kernel.invokeFunction(\n",
              "            'suggestCharts', [key], {});\n",
              "      } catch (error) {\n",
              "        console.error('Error during call to suggestCharts:', error);\n",
              "      }\n",
              "      quickchartButtonEl.classList.remove('colab-df-spinner');\n",
              "      quickchartButtonEl.classList.add('colab-df-quickchart-complete');\n",
              "    }\n",
              "    (() => {\n",
              "      let quickchartButtonEl =\n",
              "        document.querySelector('#df-ef8c697f-601f-4796-a7f4-8736ba69264f button');\n",
              "      quickchartButtonEl.style.display =\n",
              "        google.colab.kernel.accessAllowed ? 'block' : 'none';\n",
              "    })();\n",
              "  </script>\n",
              "</div>\n",
              "    </div>\n",
              "  </div>\n"
            ]
          },
          "metadata": {},
          "execution_count": 52
        }
      ]
    },
    {
      "cell_type": "markdown",
      "source": [
        "#### ."
      ],
      "metadata": {
        "id": "RvMGtWxC0vDD"
      }
    },
    {
      "cell_type": "code",
      "source": [
        "df_train = train.copy() # создание копий. Зачем? - в ходе решения так было удобнее\n",
        "df_test = test.copy()"
      ],
      "metadata": {
        "id": "n4D9VCr2gjD5"
      },
      "execution_count": null,
      "outputs": []
    },
    {
      "cell_type": "code",
      "source": [
        "df_train['Data'] = train.Data.apply(lambda s: list(map(int, s.split(','))))\n",
        "df_train['Target'] = train.Target.apply(lambda s: list(map(int, s.split(','))))\n",
        "df_test['Data'] = test.Data.apply(lambda s: list(map(int, s.split(','))))"
      ],
      "metadata": {
        "id": "jnDpMDnbE_YL"
      },
      "execution_count": null,
      "outputs": []
    },
    {
      "cell_type": "markdown",
      "source": [
        "#### Асимптотическое среднее"
      ],
      "metadata": {
        "id": "k-6AdRvAxbC-"
      }
    },
    {
      "cell_type": "code",
      "source": [
        "def asy_mean_test(mean_hat, std_hat, mu_0=0,\n",
        "                   alpha=0.05, alternative='two-sided', margin=3):\n",
        "    \"\"\"\n",
        "        Асимптотический тест для равенства средних\n",
        "    \"\"\"\n",
        "\n",
        "    z_obs = (mean_hat - mu_0)/std_hat\n",
        "\n",
        "    # cdf - куммулятивная функция распределения\n",
        "    # ppf - критическое значение\n",
        "    if alternative == 'two-sided':\n",
        "        p_value = 2 * (1 - stats.norm().cdf(np.abs(z_obs)))\n",
        "        z_crit = stats.norm().ppf(1 - alpha/2) # построение отступа, где альфа - ур. знач.\n",
        "\n",
        "        statistics = ['-z_crit', 'z_crit', '-z_obs', 'z_obs']\n",
        "        params = dict(zip(statistics, [(-z_crit, -0.6, -margin, -z_crit, 'b'),\n",
        "                                        (z_crit, 0.05, z_crit, margin, 'b'),\n",
        "                                        (-z_obs, -0.6, -margin, -z_obs, 'r'),\n",
        "                                        (z_obs, 0.1, z_obs, margin, 'r')]))\n",
        "\n",
        "    if alternative == 'less':\n",
        "        p_value = stats.norm().cdf(z_obs)\n",
        "        z_crit = stats.norm().ppf(1 - alpha)\n",
        "\n",
        "        statistics = ['-z_crit', '-z_obs']\n",
        "        params = dict(zip(statistics, [(-z_crit, -0.6, -margin, -z_crit, 'b'),\n",
        "                                       (-z_obs, -0.6, -margin, -z_obs, 'r')]))\n",
        "\n",
        "    if alternative == 'larger':\n",
        "        p_value = 1 - stats.norm().cdf(z_obs)\n",
        "        z_crit = stats.norm().ppf(1 - alpha)\n",
        "\n",
        "        statistics = ['z_crit', 'z_obs']\n",
        "        params = dict(zip(statistics, [(z_crit, 0.05, z_crit, margin, 'b'),\n",
        "                                       (z_obs, 0.1, z_obs, margin, 'r')]))\n",
        "\n",
        "\n",
        "    plt.figure(figsize = (10, 5))\n",
        "    x = np.linspace(-margin, margin)\n",
        "    pdf = stats.norm().pdf(x)\n",
        "\n",
        "    plt.plot(x, pdf, color=\"black\")\n",
        "    plt.ylabel(\"$f(x)$\", fontsize=16)\n",
        "    plt.xlabel(\"$x$\", fontsize=16)\n",
        "    y_max = plt.ylim()[1]\n",
        "\n",
        "    for i in range(len(statistics)):\n",
        "        statistic, text_margin, left_bound, right_bound, color = params[statistics[i]]\n",
        "\n",
        "        plt.axvline(statistic, color=color, linestyle=\"--\", lw=2)\n",
        "        h = 0.8 if statistics[i].split('_')[-1] == 'crit' else 0.6\n",
        "        plt.text(statistic + text_margin,\n",
        "                 h*y_max, round(statistic, 2), color=color, fontsize=16)\n",
        "\n",
        "        xq = np.linspace(left_bound, right_bound)\n",
        "        yq = stats.norm().pdf(xq)\n",
        "        plt.fill_between(xq, 0, yq, color=color, alpha=0.2)\n",
        "\n",
        "    return f\"pvalue {p_value}\""
      ],
      "metadata": {
        "id": "LrJ864LYxZCw"
      },
      "execution_count": null,
      "outputs": []
    },
    {
      "cell_type": "markdown",
      "source": [
        "### EDA и гипотезы"
      ],
      "metadata": {
        "id": "Gmp6oo1sxnVT"
      }
    },
    {
      "cell_type": "markdown",
      "source": [
        "__Посмотрим на распределение длин историй клиентов__"
      ],
      "metadata": {
        "id": "z8PVkzlDsH3J"
      }
    },
    {
      "cell_type": "code",
      "source": [
        "plt.figure(figsize=(8, 6), dpi=100)\n",
        "df_train.Data.apply(len).hist(figsize = (5,5), bins = 1000)\n",
        "plt.xlim(right=1000)\n",
        "plt.xlim(left=0)"
      ],
      "metadata": {
        "colab": {
          "base_uri": "https://localhost:8080/",
          "height": 465
        },
        "id": "dch-ftHYsA7Q",
        "outputId": "e76cf495-01a5-4f16-bb91-5c54f91e2dfe"
      },
      "execution_count": null,
      "outputs": [
        {
          "output_type": "execute_result",
          "data": {
            "text/plain": [
              "(0.0, 1000.0)"
            ]
          },
          "metadata": {},
          "execution_count": 56
        },
        {
          "output_type": "display_data",
          "data": {
            "text/plain": [
              "<Figure size 500x500 with 1 Axes>"
            ],
            "image/png": "[encoded data removed]"
          },
          "metadata": {}
        }
      ]
    },
    {
      "cell_type": "markdown",
      "source": [
        "*P.S. Позже этот простой график наведет меня на мысль о том, как можно работать с трендом в данных.*"
      ],
      "metadata": {
        "id": "nAkKWSkuXl09"
      }
    },
    {
      "cell_type": "markdown",
      "source": [
        "__Посмотрим на самые короткие и самые длинные истории__"
      ],
      "metadata": {
        "id": "zvEUvIVdsFD0"
      }
    },
    {
      "cell_type": "code",
      "source": [
        "count_train_data = []\n",
        "count_test_data = []\n",
        "\n",
        "for client in df_train.Data:\n",
        "  count_train_data.append(len(client))\n",
        "\n",
        "for client in df_test.Data:\n",
        "  count_test_data.append(len(client))"
      ],
      "metadata": {
        "id": "TLWyH316vSdH"
      },
      "execution_count": null,
      "outputs": []
    },
    {
      "cell_type": "code",
      "source": [
        "number_of_transactions = dict()\n",
        "\n",
        "for i in range(0, 7033):\n",
        "  number_of_transactions[i] = len(train.Data.iloc[i].split(','))\n",
        "\n",
        "sorted_number_of_transactions = sorted(number_of_transactions.items(), key=lambda x: x[1], reverse=True)"
      ],
      "metadata": {
        "id": "ZxO_4qdjsg2I"
      },
      "execution_count": null,
      "outputs": []
    },
    {
      "cell_type": "code",
      "source": [
        "sorted_number_of_transactions[:10] # 10 самых длинных историй"
      ],
      "metadata": {
        "colab": {
          "base_uri": "https://localhost:8080/"
        },
        "id": "r4KbtQrSsi7E",
        "outputId": "2b618c86-d870-48ec-b014-c5749f51c991"
      },
      "execution_count": null,
      "outputs": [
        {
          "output_type": "execute_result",
          "data": {
            "text/plain": [
              "[(4210, 21101),\n",
              " (2451, 19177),\n",
              " (538, 18994),\n",
              " (1774, 15396),\n",
              " (807, 15196),\n",
              " (6699, 14734),\n",
              " (5370, 14504),\n",
              " (2122, 12327),\n",
              " (691, 12061),\n",
              " (3749, 12045)]"
            ]
          },
          "metadata": {},
          "execution_count": 59
        }
      ]
    },
    {
      "cell_type": "code",
      "source": [
        "sorted_number_of_transactions[-10:] # самых коротких историй"
      ],
      "metadata": {
        "colab": {
          "base_uri": "https://localhost:8080/"
        },
        "id": "yHxx05VDsaNp",
        "outputId": "42a17f6b-0671-4df2-f148-a99b9a3f56a9"
      },
      "execution_count": null,
      "outputs": [
        {
          "output_type": "execute_result",
          "data": {
            "text/plain": [
              "[(3420, 40),\n",
              " (4014, 40),\n",
              " (4679, 40),\n",
              " (4924, 40),\n",
              " (5068, 40),\n",
              " (5842, 40),\n",
              " (6035, 40),\n",
              " (6259, 40),\n",
              " (6422, 40),\n",
              " (7018, 40)]"
            ]
          },
          "metadata": {},
          "execution_count": 60
        }
      ]
    },
    {
      "cell_type": "code",
      "source": [
        "count_test_data = np.array(count_test_data)\n",
        "count_train_data = np.array(count_train_data)"
      ],
      "metadata": {
        "id": "NZ9-RR7W1uW1"
      },
      "execution_count": null,
      "outputs": []
    },
    {
      "cell_type": "markdown",
      "source": [
        "__Проведем некоторые статистические тесты__  \n",
        "*Зачем?*  \n",
        "Поскольку далее будет представлено решение в виде детерминированной функции, выполняющей предсказание при помощи расчёта статистик над последовательностью операций."
      ],
      "metadata": {
        "id": "zL2KXZactQTK"
      }
    },
    {
      "cell_type": "markdown",
      "source": [
        "Проверка гипотезы о равенстве средних и одинаковом распределении важны поскольку:\n",
        "\n",
        "1.   Функция, которая выполняет роль предикта, создавалась с оглядкой на тестовые данные, так-как валидироваться можно было только на них.\n",
        "2.   Одинаковое распределение гарантирует, что данные в выборках в среднем ведут себя схожим образом.\n",
        "3.   Резюмируя предыдущие пункты, функция проводя манипуляции с данными из тестовой выборки, будет работать аналогичным образом и с тестовой выборкой.\n",
        "\n"
      ],
      "metadata": {
        "id": "_D3T1LndIEaZ"
      }
    },
    {
      "cell_type": "markdown",
      "source": [
        "**Нормально ли распределение?**"
      ],
      "metadata": {
        "id": "_OzTMWYDG5W8"
      }
    },
    {
      "cell_type": "markdown",
      "source": [
        "Для этого воспользуемся тестом Шапиро-Уилка:  \n",
        "***Критерий Шапиро-Уилка*** используется для проверки гипотезы $H_0$: «случайная величина $X$ распределена нормально» и является одним наиболее эффективных критериев проверки нормальности.  \n",
        "Вот немного математики:  \n",
        "\n",
        "$$\n",
        "\\begin{aligned}      \n",
        "W=\\frac{1}{s^2}\\left[\\sum_{i=1}^n a_{n-i+1} (x_{n-i+1} -x_i)\\right]^2,\n",
        "s^2 - \\text{Несмещенная дисперсия}\n",
        "\\end{aligned}\n",
        "$$"
      ],
      "metadata": {
        "id": "28yiHjt3u0bt"
      }
    },
    {
      "cell_type": "markdown",
      "source": [
        "Получить нормальное распределение - это счастье для исследователя, т.к. к нему применимы мощные стат. критерии, к примеру критерий Фишера"
      ],
      "metadata": {
        "id": "PhDzWTpoveHm"
      }
    },
    {
      "cell_type": "code",
      "source": [
        "shapiro_train = stats.shapiro(count_test_data)\n",
        "shapiro_train"
      ],
      "metadata": {
        "colab": {
          "base_uri": "https://localhost:8080/"
        },
        "id": "bnUn8Vm4F3vR",
        "outputId": "fe457d28-acf1-4b5d-bc96-0aee6428d764"
      },
      "execution_count": null,
      "outputs": [
        {
          "output_type": "execute_result",
          "data": {
            "text/plain": [
              "ShapiroResult(statistic=0.12388652563095093, pvalue=0.0)"
            ]
          },
          "metadata": {},
          "execution_count": 62
        }
      ]
    },
    {
      "cell_type": "markdown",
      "source": [
        "Смотрим на `pvalue` - это вероятность, при верности нулевой гипотезы, получить такое же значение наблюдаемой статистики или еще более экстремально. У нас `pvalue = 0.0` => гипотеза отвергается"
      ],
      "metadata": {
        "id": "C_lVfEVixl8T"
      }
    },
    {
      "cell_type": "markdown",
      "source": [
        "![1280px-KS_Example.png](data:image/png;base64,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)"
      ],
      "metadata": {
        "id": "vVbQmM02CiKd"
      }
    },
    {
      "cell_type": "markdown",
      "source": [
        "__Тогда посмотрим на графики и убидимся в этом.__"
      ],
      "metadata": {
        "id": "OkCX3xLaHAcA"
      }
    },
    {
      "cell_type": "code",
      "source": [
        "fig, axes = plt.subplots(1, 2, figsize=(10,4), dpi=100)\n",
        "sns.histplot(\n",
        "    (count_train_data),\n",
        "    ax=axes[0],\n",
        "    bins=100,\n",
        "    color = 'b' ,\n",
        "    kde=True);\n",
        "sns.histplot(\n",
        "    (count_test_data),\n",
        "    ax=axes[1],\n",
        "    bins=600,\n",
        "    kde=True);\n",
        "\n",
        "fig.suptitle(\"Распределение длин историй в train и в test\")\n",
        "\n",
        "axes[0].legend(title=\"Медиана {:.3f} \\n Среднее {:.3f}\".format(\n",
        "              (np.median(count_train_data)),\n",
        "              (count_train_data.mean())),\n",
        "              loc=\"upper right\");\n",
        "axes[0].axvline(np.median(count_train_data), color='g')\n",
        "axes[0].axvline(count_train_data.mean(), color='black')\n",
        "axes[0].set_ylabel(\"средние длины историй\")\n",
        "axes[0].set_xlim(0, 10000);\n",
        "\n",
        "axes[1].legend(title=\"Медиана {:.3f} \\n Среднее {:.3f}\".format(\n",
        "              (np.median(count_test_data)),\n",
        "              (count_test_data.mean())),\n",
        "              loc=\"upper right\");\n",
        "axes[1].axvline((np.median(count_test_data)), color='g')\n",
        "axes[1].axvline((count_test_data.mean()), color='black')\n",
        "axes[1].set_ylabel(\"средние длины историй\")\n",
        "axes[1].set_xlim(0, 10000);"
      ],
      "metadata": {
        "colab": {
          "base_uri": "https://localhost:8080/",
          "height": 463
        },
        "id": "XTantiJi3lRN",
        "outputId": "90ac7118-0b67-449f-a82a-dd9965564ae7"
      },
      "execution_count": null,
      "outputs": [
        {
          "output_type": "stream",
          "name": "stderr",
          "text": [
            "WARNING:matplotlib.legend:No artists with labels found to put in legend.  Note that artists whose label start with an underscore are ignored when legend() is called with no argument.\n",
            "WARNING:matplotlib.legend:No artists with labels found to put in legend.  Note that artists whose label start with an underscore are ignored when legend() is called with no argument.\n"
          ]
        },
        {
          "output_type": "display_data",
          "data": {
            "text/plain": [
              "<Figure size 1000x400 with 2 Axes>"
            ],
            "image/png": "[encoded data removed]"
          },
          "metadata": {}
        }
      ]
    },
    {
      "cell_type": "markdown",
      "source": [
        "Больше напоминает $\\chi^2_{n}$. Воспользуемся тестом Калмогорова."
      ],
      "metadata": {
        "id": "FcIQpk9-xdA4"
      }
    },
    {
      "cell_type": "markdown",
      "source": [
        "***Критерий согласия Колмогорова*** предназначен для проверки гипотезы о принадлежности выборки некоторому закону распределения, то есть проверки того, что эмпирическое распределение соответствует предполагаемой модели.  \n",
        "\n",
        "$$\n",
        "\\begin{aligned}\n",
        "H_0 : F(x) \\sim X_n^2 \\\\\n",
        "H_1 : F(x) \\nsim X_n^2\n",
        "\\end{aligned}\n",
        "$$"
      ],
      "metadata": {
        "id": "6BWVhIrOzv4D"
      }
    },
    {
      "cell_type": "code",
      "source": [
        "stats.kstest(count_train_data, 'chi2', args=(count_train_data.mean(), count_train_data.std(ddof=1)))"
      ],
      "metadata": {
        "colab": {
          "base_uri": "https://localhost:8080/"
        },
        "id": "AF7l7xoo2rir",
        "outputId": "dae482f3-2dfa-47cb-a79e-aaa49624fa71"
      },
      "execution_count": null,
      "outputs": [
        {
          "output_type": "execute_result",
          "data": {
            "text/plain": [
              "KstestResult(statistic=0.9562916034388173, pvalue=0.0, statistic_location=1197, statistic_sign=1)"
            ]
          },
          "metadata": {},
          "execution_count": 64
        }
      ]
    },
    {
      "cell_type": "markdown",
      "source": [
        "Но это не $\\chi^2_{n}$, *пускай* это будет *неизвестные распределение*, но посмотреть на то, как они вглядят хочется. Применим преобразование Бокса-Кокса.  \n",
        "$$\n",
        "\\begin{aligned}  \n",
        " y_i^{\\lambda} = \\begin{cases}\\frac{(y_i+\\alpha)^{\\lambda}-1}{\\lambda},&\\text{if } \\lambda_1 \\neq 0,\\\\ \\log{(y_i+\\alpha)},& \\text{if } \\lambda = 0.\\end{cases}\n",
        "\\end{aligned}\n",
        "$$"
      ],
      "metadata": {
        "id": "NCdShyqD25ZL"
      }
    },
    {
      "cell_type": "code",
      "source": [
        "fig, axes = plt.subplots(1, 2, figsize=(9,4), dpi=100)\n",
        "sns.histplot(\n",
        "    np.log(count_train_data),\n",
        "    ax=axes[0],\n",
        "    bins=100,\n",
        "    color = 'b' ,\n",
        "    kde=True);\n",
        "sns.histplot(\n",
        "    np.log(count_test_data),\n",
        "    ax=axes[1],\n",
        "    bins=100,\n",
        "    kde=True);\n",
        "\n",
        "fig.suptitle(\"Распределение длин историй в train и в test\")\n",
        "\n",
        "axes[0].legend(title=\"Медиана {:.3f} \\n Среднее {:.3f}\".format(\n",
        "              np.log(np.median(count_train_data)),\n",
        "              np.log(count_train_data.mean())),\n",
        "              loc=\"upper right\")\n",
        "axes[0].axvline(np.log(np.median(count_train_data)), color='g')\n",
        "axes[0].axvline(np.log(count_train_data.mean()), color='black')\n",
        "axes[0].set_ylabel(\"$log(средней длины)$\")\n",
        "\n",
        "axes[1].legend(title=\"Медиана {:.3f} \\n Среднее {:.3f}\".format(\n",
        "              np.log(np.median(count_test_data)),\n",
        "              np.log(count_test_data.mean())),\n",
        "              loc=\"upper right\")\n",
        "axes[1].axvline(np.log(np.median(count_test_data)), color='g')\n",
        "axes[1].axvline(np.log(count_test_data.mean()), color='black')\n",
        "axes[1].set_ylabel(\"$log(средней длины)$\")"
      ],
      "metadata": {
        "colab": {
          "base_uri": "https://localhost:8080/",
          "height": 480
        },
        "id": "ADFLapD117Va",
        "outputId": "b62963f8-6b79-44d0-c57f-e700c9e58e6c"
      },
      "execution_count": null,
      "outputs": [
        {
          "output_type": "stream",
          "name": "stderr",
          "text": [
            "WARNING:matplotlib.legend:No artists with labels found to put in legend.  Note that artists whose label start with an underscore are ignored when legend() is called with no argument.\n",
            "WARNING:matplotlib.legend:No artists with labels found to put in legend.  Note that artists whose label start with an underscore are ignored when legend() is called with no argument.\n"
          ]
        },
        {
          "output_type": "execute_result",
          "data": {
            "text/plain": [
              "Text(0, 0.5, '$log(средней длины)$')"
            ]
          },
          "metadata": {},
          "execution_count": 65
        },
        {
          "output_type": "display_data",
          "data": {
            "text/plain": [
              "<Figure size 900x400 with 2 Axes>"
            ],
            "image/png": "[encoded data removed]"
          },
          "metadata": {}
        }
      ]
    },
    {
      "cell_type": "markdown",
      "source": [
        "Графики выглядят похожими:\n",
        "* Гипотеза: Данные из трейна и теста пришли из одного распределения. Воспользуемся тестом Калмогорова-Смирнова\n",
        "\n",
        "$$\n",
        "\\begin{aligned}\n",
        "H_0 : X_1 \\sim X_2 \\\\\n",
        "H_1 : X_1 \\nsim X_2\n",
        "\\end{aligned}\n",
        "$$"
      ],
      "metadata": {
        "id": "T7P2Kvk0DfvM"
      }
    },
    {
      "cell_type": "code",
      "source": [
        "stats.ks_2samp(count_train_data, count_test_data)"
      ],
      "metadata": {
        "colab": {
          "base_uri": "https://localhost:8080/"
        },
        "id": "wxlzlnNrCxKa",
        "outputId": "56b417a3-7f2b-4330-f738-261fc5573fbb"
      },
      "execution_count": null,
      "outputs": [
        {
          "output_type": "execute_result",
          "data": {
            "text/plain": [
              "KstestResult(statistic=0.01635148585241007, pvalue=0.303985536729003, statistic_location=372, statistic_sign=1)"
            ]
          },
          "metadata": {},
          "execution_count": 66
        }
      ]
    },
    {
      "cell_type": "markdown",
      "source": [
        "Видим, что $p\\_value$ на порядок выше $5\\%$, значит гипотеза не отвергается."
      ],
      "metadata": {
        "id": "K1OfDy0GEM2q"
      }
    },
    {
      "cell_type": "markdown",
      "source": [
        "* Гипотеза: Средняя длина последовательности в train и test равны\n",
        "Проверка гипотезы о равенстве средних. Выборки независимые. $alpha=5$\n",
        "\n",
        "$$\n",
        "\\begin{aligned}\n",
        "&H_0: \\hspace{2mm} m_1 = m_2 \\hspace{2mm} \\text{Средние равны} \\\\\n",
        "&H_1: \\hspace{2mm} m_1 \\ne m_2  \\hspace{2mm} \\text{Есть различия}\n",
        "\\end{aligned}\n",
        "$$"
      ],
      "metadata": {
        "id": "lNWRscZ9x0PF"
      }
    },
    {
      "cell_type": "code",
      "source": [
        "alpha = 0.05                                                                           # уровень значимости = 5%\n",
        "nx, ny = count_train_data.size, count_test_data.size                                   # размер выборок\n",
        "\n",
        "diff =  count_test_data.mean() -  count_train_data.mean()                              # разность средних\n",
        "diff_std = np.sqrt(count_train_data.var(ddof=1)/nx + count_test_data.var(ddof=1)/ny)   # стандартное отклонение"
      ],
      "metadata": {
        "id": "I8A4BiNs2zEz"
      },
      "execution_count": null,
      "outputs": []
    },
    {
      "cell_type": "markdown",
      "source": [
        "Прошу заметить, что используется не просто критерий Фишера, а его модификация с использованием смещенной (выборочной) дисперсии."
      ],
      "metadata": {
        "id": "b7Xhk3G08jAl"
      }
    },
    {
      "cell_type": "code",
      "source": [
        "asy_mean_test(diff, diff_std, mu_0=0, alpha=0.05, alternative='larger')"
      ],
      "metadata": {
        "colab": {
          "base_uri": "https://localhost:8080/",
          "height": 489
        },
        "id": "_sRnLk143uTu",
        "outputId": "55c31cdf-5fae-4a1d-b36c-15e980bd2215"
      },
      "execution_count": null,
      "outputs": [
        {
          "output_type": "execute_result",
          "data": {
            "text/plain": [
              "'pvalue 0.4271677367964686'"
            ],
            "application/vnd.google.colaboratory.intrinsic+json": {
              "type": "string"
            }
          },
          "metadata": {},
          "execution_count": 68
        },
        {
          "output_type": "display_data",
          "data": {
            "text/plain": [
              "<Figure size 1000x500 with 1 Axes>"
            ],
            "image/png": "[encoded data removed]"
          },
          "metadata": {}
        }
      ]
    },
    {
      "cell_type": "markdown",
      "source": [
        "Нулевая гипотеза не отвергается, средние заначения действительно близки."
      ],
      "metadata": {
        "id": "9czXAlVlxsd_"
      }
    },
    {
      "cell_type": "code",
      "source": [
        "diff =  count_test_data.mean() -  count_train_data.mean()\n",
        "diff"
      ],
      "metadata": {
        "colab": {
          "base_uri": "https://localhost:8080/"
        },
        "id": "__1oyy2-x_-S",
        "outputId": "7176b239-2fd0-4790-df75-34e0a3ec398e"
      },
      "execution_count": null,
      "outputs": [
        {
          "output_type": "execute_result",
          "data": {
            "text/plain": [
              "3.4332432816721052"
            ]
          },
          "metadata": {},
          "execution_count": 69
        }
      ]
    },
    {
      "cell_type": "markdown",
      "source": [
        "### Функция, выполняющая роль предикта"
      ],
      "metadata": {
        "id": "FhiIxZK1vvYI"
      }
    },
    {
      "cell_type": "markdown",
      "source": [
        "__Ход написания функции предикта__\n",
        "\n",
        "\n",
        "1.   `take_top10` - Самый базовый вариант решения. Просто берет топ 10 mcc кодов в истории. Даже не дойдя до предикта очевидно, что это не оптимальное решение, тем не менее код я реализовал, это позволило мне от чего-то отталкиваться.\n",
        "2.  Учитывать частотность эффективнее, но в таком случае её нужно как-то считать. Для этого был написана функция `take_top_tail`, который проходится по истории и сначала считает количество для каждого mcc, потом происходит сортировка по count. Преобразуется в списки, поскольку кортежи неизменяемые, а я хочу учесть частоту. Для каждой пары [mcc, count] добавляется частота встречаемости.\n",
        "3.  `weighted_10` - идея была округлить все вероятности, тогда все коды, которые ничего толком и назначат пропадут, а коды с вероятностью `0.08` или `0.19` округлятся ведь это почти `0.1` и `0.2` соответственно, логично было бы их округлить, а остальное откинуть\n",
        "`for item in reversed(temp10):`\n",
        "`if item[2] < 0.1:` `temp10.pop()`. Такое решение учитывает и крайние случаи и стандартные. По ходу разработки я проверил нет ли в тестовых и тренировочных данных таких клиентов, у которых есть только коды с вероятностью меньше 0.1 . Первый предикт был сделан на этом этапе - `map@10 = 0.255`.\n",
        "4.  Поскольку требуется предсказать 10 следующих, то необходимо подумать о неком тренде, который может быть в данных. Для этого я решил увеличивать вес последних кодов из начально трети, а потом я добавил параметр, который позволяет регулировать вес - `weight_booster`, который предаётся кодам, и параметр, который у регулирует часть - `tail`, которой предаются больший вес.\n",
        "5. Позже я решил добавить другой метод учета вероятности встречаемости кодов - `counted_10` в прочем результаты неудовлетворительны, поэтому он не используется.\n",
        "6. При приведении ноутбука в порядок, я смотрел на графики, и мне на основе моего понимании датасета, пришла в голову мысль: уменьшать tail в зависимости от длины последовательности  \n",
        "$$\n",
        "\\begin{aligned}  \n",
        "{\\frac {1}{\\log_2(length_i)}} \\cdot{100} \\cdot {\\alpha}\n",
        "\\end{aligned}\n",
        "$$  \n",
        "α - увеличивает размер хвоста (на графике поднимает кривую)\n"
      ],
      "metadata": {
        "id": "TGlfmDNks2lk"
      }
    },
    {
      "cell_type": "code",
      "source": [
        "new_tail = []\n",
        "alpha = 1.2\n",
        "\n",
        "for i in range(40, 1000):\n",
        "  new_tail.append(int(((i)/np.log(i))/(i)*100)*alpha)\n",
        "\n",
        "plt.plot(new_tail)\n",
        "plt.ylabel(\"%\")\n",
        "plt.ylim(10, 33)"
      ],
      "metadata": {
        "colab": {
          "base_uri": "https://localhost:8080/",
          "height": 447
        },
        "id": "4DnZ27higluf",
        "outputId": "2a9b3b9d-1e8d-4285-dde8-31e09c428b84"
      },
      "execution_count": null,
      "outputs": [
        {
          "output_type": "execute_result",
          "data": {
            "text/plain": [
              "(10.0, 33.0)"
            ]
          },
          "metadata": {},
          "execution_count": 70
        },
        {
          "output_type": "display_data",
          "data": {
            "text/plain": [
              "<Figure size 640x480 with 1 Axes>"
            ],
            "image/png": "[encoded data removed]"
          },
          "metadata": {}
        }
      ]
    },
    {
      "cell_type": "code",
      "source": [
        "import random\n",
        "\n",
        "def predict_next10_mcc(df : pd.DataFrame,\n",
        "                      shuffled=False,\n",
        "                      counted =False,\n",
        "                      tail=0,\n",
        "                      weight_booster=1,\n",
        "                      adaptive = False,\n",
        "                      alpha = 1):\n",
        "\n",
        "  \"\"\"\n",
        "    Предсказывает 10 следующих транзакций клиента по его истории оппераций.\n",
        "    Параметр `tail` и `weight_booster` позволяют учитывать тренд в данных.\n",
        "\n",
        "    Parameters\n",
        "    ----------\n",
        "    df : pandas.DataFrame\n",
        "        На вход принимает датафрейм, где в столбце `Data` содержатся истории\n",
        "        клиентов в формате `str`\n",
        "    counted : bool\n",
        "        Использует метода `counted_10` в качестве предикта. Качество хуже\n",
        "        Default is `False`\n",
        "    shuffled : bool\n",
        "        Используется вместе с `counted_10`. Перемешивает предикт этой функции,\n",
        "        что в свою очередь повышает качество предикта\n",
        "        Default is `False`\n",
        "    tail : float **LESS THEN 1.0**\n",
        "        tail определяет склько процентов mcc-кодов c конца истории клиента\n",
        "        получат большей вес. Вес - кол-во конкретного mcc кода в истории клиента.\n",
        "        Позволяет учесть тренд в данных.\n",
        "    weight_booster : float or int\n",
        "        Число на которое будет домнажаться количество кодов, которое встретилось\n",
        "        в конце истории транзакций\n",
        "        Default is `1`\n",
        "    adaptive : bool\n",
        "        Адаптивный подбор размера хвоста `tail`\n",
        "        Default is `False`\n",
        "    alpha : int or float\n",
        "        Линейно увиличивает или уменьшает размер хвоста, если `adaptive = True`\n",
        "        Default is `1`\n",
        "\n",
        "    Returns\n",
        "    -------\n",
        "    predict : list\n",
        "        Возвращает список, элементы которого содержат 10 mcc кодов разделенных\n",
        "        запятой и пробелом.\n",
        "\n",
        "  \"\"\"\n",
        "\n",
        "  def take_top_tail(df, tail=0, weight_booster=1):\n",
        "\n",
        "    if tail > 1.0:\n",
        "      raise ValueError(\"Число должно быть меньше или равно 1. Значения выше `0.444` понижают качество\")\n",
        "\n",
        "    weighted_top = []\n",
        "    for row in df.Data:\n",
        "      arr = row.split(\",\")\n",
        "      sum_of_mcc = len(arr)\n",
        "      row_top = dict()\n",
        "      if adaptive:\n",
        "        last33per = int((((sum_of_mcc)/np.log(sum_of_mcc))/(sum_of_mcc)*100)*alpha)\n",
        "      else:\n",
        "        last33per = int(sum_of_mcc * tail)\n",
        "      iter = 0\n",
        "      for mcc in arr:\n",
        "        iter +=1\n",
        "        if iter < (sum_of_mcc - last33per):\n",
        "          if mcc not in row_top:\n",
        "            row_top[mcc] = 0\n",
        "          row_top[mcc] += 1\n",
        "        else:\n",
        "          if mcc not in row_top:\n",
        "            row_top[mcc] = 0\n",
        "          row_top[mcc] += weight_booster\n",
        "\n",
        "      sorted_count_mcc = (sorted(row_top.items(), key=lambda x: x[1], reverse=True))\n",
        "      new_lst = [list(tup) for tup in sorted_count_mcc]\n",
        "      for i in range(len(new_lst)):\n",
        "        a = new_lst[i]\n",
        "        new_lst[i] = [a[0], a[1], a[1]/ sum_of_mcc]\n",
        "      weighted_top.append(new_lst)\n",
        "\n",
        "    return weighted_top\n",
        "\n",
        "  def take_10(row_top: list()):\n",
        "    '''\n",
        "    Получает строку, то есть список списков вида [[mcc, count, freq], [ , , ], ...].\n",
        "    '''\n",
        "\n",
        "    top10 = []\n",
        "    if len(row_top) >= 10:\n",
        "      for i in range(0, 10):\n",
        "        top10.append(row_top[i][0])\n",
        "      return top10\n",
        "    else:\n",
        "      while len(top10) < 10:\n",
        "        for i in range(len(row_top)):\n",
        "          top10.append(row_top[i][0])\n",
        "      return top10[:10]\n",
        "\n",
        "  def weighted_10(row_top: list()):\n",
        "    \"\"\"\n",
        "    Получает строку, то есть список списков вида [[mcc, count, freq], [ , , ], ...].\n",
        "    \"\"\"\n",
        "\n",
        "    top10 = []\n",
        "    temp10 = row_top[:10]\n",
        "    for i in range(len(temp10)):\n",
        "      temp10[i][2] = round(temp10[i][2], 1)\n",
        "    for item in reversed(temp10):\n",
        "      if item[2] < 0.1:\n",
        "        temp10.pop()\n",
        "      else:\n",
        "        break\n",
        "    if len(temp10) == 10:\n",
        "      for i in range(0, 10):\n",
        "        top10.append(temp10[i][0])\n",
        "      return top10\n",
        "    else:\n",
        "      sum_of_freq = 0\n",
        "      while len(top10) < 10:\n",
        "        for i in range(len(temp10)):\n",
        "          sum_of_freq += (temp10[i][2])\n",
        "          if temp10[i][2] >= 0.1:\n",
        "            top10.append(temp10[i][0])\n",
        "      return top10[:10]\n",
        "\n",
        "  def counted_10(row_top: list(), shuffled):\n",
        "    \"\"\"\n",
        "    Получает строку, то есть список списков вида [[mcc, count, freq], [ , , ], ...].\n",
        "    \"\"\"\n",
        "\n",
        "    top10 = []\n",
        "    temp10 = row_top[:10]\n",
        "    for i in range(len(temp10)):\n",
        "      temp10[i][2] = int(10 * round(temp10[i][2], 1)) + 1\n",
        "\n",
        "    for i in range(0, len(temp10)):\n",
        "      for _ in range(temp10[i][2]):\n",
        "        top10.append(temp10[i][0])\n",
        "    if shuffled:\n",
        "      x = top10[:10]\n",
        "      random.shuffle(x)\n",
        "      return x\n",
        "    else:\n",
        "      return top10[:10]\n",
        "\n",
        "  predict = []\n",
        "  data_stats = take_top_tail(df, tail, weight_booster)\n",
        "  if counted:\n",
        "    for i in range(len(data_stats)):\n",
        "      predict.append(', '.join(counted_10(data_stats[i], shuffled=shuffled)))\n",
        "  else:\n",
        "    for i in range(len(data_stats)):\n",
        "      predict.append(', '.join(weighted_10(data_stats[i])))\n",
        "\n",
        "  return predict"
      ],
      "metadata": {
        "id": "PZdmvyymwJ4d"
      },
      "execution_count": null,
      "outputs": []
    },
    {
      "cell_type": "markdown",
      "source": [
        "### Метрика"
      ],
      "metadata": {
        "id": "6v2-vV0irJPi"
      }
    },
    {
      "cell_type": "code",
      "source": [
        "def apk(actual, predicted, k=10):\n",
        "  \"\"\"\n",
        "    Computes the average precision at k.\n",
        "\n",
        "    This function computes the average prescision at k between two lists of\n",
        "    items.\n",
        "\n",
        "    Parameters\n",
        "    ----------\n",
        "    actual : list\n",
        "             A list of elements that are to be predicted (order doesn't matter)\n",
        "    predicted : list\n",
        "                A list of predicted elements (order does matter)\n",
        "    k : int, optional\n",
        "        The maximum number of predicted elements\n",
        "\n",
        "    Returns\n",
        "    -------\n",
        "    score : double\n",
        "            The average precision at k over the input lists\n",
        "\n",
        "  \"\"\"\n",
        "  if len(predicted) > k:\n",
        "      predicted = predicted[:k]\n",
        "\n",
        "  score = 0.0\n",
        "  num_hits = 0.0\n",
        "\n",
        "  for i, p in enumerate(predicted):\n",
        "      if p == actual[i]: # and p not in predicted[:i]\n",
        "          num_hits += 1.0\n",
        "          score += num_hits / (i+1.0)\n",
        "\n",
        "  if not actual:\n",
        "      return 0.0\n",
        "\n",
        "  return score / min(len(actual), k)\n",
        "\n",
        "def mapk(actual, predicted, k=10):\n",
        "  \"\"\"\n",
        "    Computes the mean average precision at k.\n",
        "\n",
        "    This function computes the mean average prescision at k between two lists\n",
        "    of lists of items.\n",
        "\n",
        "    Parameters\n",
        "    ----------\n",
        "    actual : list\n",
        "             A list of lists of elements that are to be predicted\n",
        "             (order doesn't matter in the lists)\n",
        "    predicted : list\n",
        "                A list of lists of predicted elements\n",
        "                (order matters in the lists)\n",
        "    k : int, optional\n",
        "        The maximum number of predicted elements\n",
        "\n",
        "    Returns\n",
        "    -------\n",
        "    score : double\n",
        "            The mean average precision at k over the input lists\n",
        "\n",
        "    \"\"\"\n",
        "  return np.mean([apk(a, p, k) for a, p in zip(actual, predicted)])"
      ],
      "metadata": {
        "id": "3nXUCgdDxJo5"
      },
      "execution_count": null,
      "outputs": []
    },
    {
      "cell_type": "code",
      "source": [
        "mapk(train['Target'], predict_next10_mcc(train, counted=False,shuffled = False, tail=0.2, weight_booster=8, adaptive=False, alpha=1.7))"
      ],
      "metadata": {
        "colab": {
          "base_uri": "https://localhost:8080/"
        },
        "id": "N76YFI4APo5V",
        "outputId": "0e46ea4d-e9b5-41ab-8d3f-0c68277e301a"
      },
      "execution_count": null,
      "outputs": [
        {
          "output_type": "execute_result",
          "data": {
            "text/plain": [
              "0.2812614849722058"
            ]
          },
          "metadata": {},
          "execution_count": 73
        }
      ]
    },
    {
      "cell_type": "markdown",
      "source": [
        "### __Predict__\n",
        "_____\n",
        "0.28825* - `predict_next10_mcc(test, counted=False,shuffled = False, tail=0.2, weight_booster=8)`  \n",
        "*на публичном лидерборде"
      ],
      "metadata": {
        "id": "JtpdPWfRIgqn"
      }
    },
    {
      "cell_type": "code",
      "source": [
        "tails = [0.2, ]\n",
        "weight_boosters = [ 8]\n",
        "\n",
        "for tail in tails:\n",
        "  for weight_booster in weight_boosters:\n",
        "\n",
        "    score = mapk(df_train['Target'],\n",
        "                  predict_next10_mcc(train,\n",
        "                  counted=False,\n",
        "                  tail=tail,\n",
        "                  weight_booster=weight_booster,\n",
        "                  adaptive = False\n",
        "                  ))\n",
        "    print('Параметры: tail={}, weight_booster={}. score: {:.5f}'.format(\n",
        "        tail,  weight_booster, score\n",
        "    ))\n"
      ],
      "metadata": {
        "id": "eAXYxs89jVb8",
        "colab": {
          "base_uri": "https://localhost:8080/"
        },
        "outputId": "92e4dc7f-2582-4efe-827a-ce1ca5860b8e"
      },
      "execution_count": null,
      "outputs": [
        {
          "output_type": "stream",
          "name": "stdout",
          "text": [
            "Параметры: tail=0.2, weight_booster=8. score: 0.00000\n"
          ]
        }
      ]
    },
    {
      "cell_type": "code",
      "source": [
        "test['Predicted'] = predict_next10_mcc(test, counted=False,shuffled = False, tail=0.2, weight_booster=8)"
      ],
      "metadata": {
        "id": "5S740EZkJ92J"
      },
      "execution_count": null,
      "outputs": []
    },
    {
      "cell_type": "code",
      "source": [
        "test.head(4)"
      ],
      "metadata": {
        "colab": {
          "base_uri": "https://localhost:8080/",
          "height": 174
        },
        "id": "pysPn0NwOrEL",
        "outputId": "31177bbf-82a7-414b-b804-a79fdde7facc"
      },
      "execution_count": null,
      "outputs": [
        {
          "output_type": "execute_result",
          "data": {
            "text/plain": [
              "   Id                                               Data  \\\n",
              "0   0  4814,4814,6011,6011,6010,6011,6011,4814,6011,4...   \n",
              "1   1  6010,6011,6010,5411,5411,5977,6011,6010,5411,6...   \n",
              "2   2  4814,6011,5251,6011,7832,5641,5814,4829,5311,6...   \n",
              "3   3  6011,4722,4722,4722,4814,6011,6011,4829,6011,6...   \n",
              "\n",
              "                                           Predicted  \n",
              "0  6011, 4814, 4829, 6010, 5499, 5411, 5541, 6011...  \n",
              "1  6011, 4814, 6010, 5411, 5533, 4812, 5451, 6011...  \n",
              "2  6010, 6011, 4814, 5499, 5411, 4829, 5814, 6010...  \n",
              "3  6011, 4814, 5411, 5912, 5814, 4829, 5309, 5964...  "
            ],
            "text/html": [
              "\n",
              "  <div id=\"df-67ab99bd-6676-49ea-b9e0-71a2c7e5fa17\" class=\"colab-df-container\">\n",
              "    <div>\n",
              "<style scoped>\n",
              "    .dataframe tbody tr th:only-of-type {\n",
              "        vertical-align: middle;\n",
              "    }\n",
              "\n",
              "    .dataframe tbody tr th {\n",
              "        vertical-align: top;\n",
              "    }\n",
              "\n",
              "    .dataframe thead th {\n",
              "        text-align: right;\n",
              "    }\n",
              "</style>\n",
              "<table border=\"1\" class=\"dataframe\">\n",
              "  <thead>\n",
              "    <tr style=\"text-align: right;\">\n",
              "      <th></th>\n",
              "      <th>Id</th>\n",
              "      <th>Data</th>\n",
              "      <th>Predicted</th>\n",
              "    </tr>\n",
              "  </thead>\n",
              "  <tbody>\n",
              "    <tr>\n",
              "      <th>0</th>\n",
              "      <td>0</td>\n",
              "      <td>4814,4814,6011,6011,6010,6011,6011,4814,6011,4...</td>\n",
              "      <td>6011, 4814, 4829, 6010, 5499, 5411, 5541, 6011...</td>\n",
              "    </tr>\n",
              "    <tr>\n",
              "      <th>1</th>\n",
              "      <td>1</td>\n",
              "      <td>6010,6011,6010,5411,5411,5977,6011,6010,5411,6...</td>\n",
              "      <td>6011, 4814, 6010, 5411, 5533, 4812, 5451, 6011...</td>\n",
              "    </tr>\n",
              "    <tr>\n",
              "      <th>2</th>\n",
              "      <td>2</td>\n",
              "      <td>4814,6011,5251,6011,7832,5641,5814,4829,5311,6...</td>\n",
              "      <td>6010, 6011, 4814, 5499, 5411, 4829, 5814, 6010...</td>\n",
              "    </tr>\n",
              "    <tr>\n",
              "      <th>3</th>\n",
              "      <td>3</td>\n",
              "      <td>6011,4722,4722,4722,4814,6011,6011,4829,6011,6...</td>\n",
              "      <td>6011, 4814, 5411, 5912, 5814, 4829, 5309, 5964...</td>\n",
              "    </tr>\n",
              "  </tbody>\n",
              "</table>\n",
              "</div>\n",
              "    <div class=\"colab-df-buttons\">\n",
              "\n",
              "  <div class=\"colab-df-container\">\n",
              "    <button class=\"colab-df-convert\" onclick=\"convertToInteractive('df-67ab99bd-6676-49ea-b9e0-71a2c7e5fa17')\"\n",
              "            title=\"Convert this dataframe to an interactive table.\"\n",
              "            style=\"display:none;\">\n",
              "\n",
              "  <svg xmlns=\"http://www.w3.org/2000/svg\" height=\"24px\" viewBox=\"0 -960 960 960\">\n",
              "    <path d=\"M120-120v-720h720v720H120Zm60-500h600v-160H180v160Zm220 220h160v-160H400v160Zm0 220h160v-160H400v160ZM180-400h160v-160H180v160Zm440 0h160v-160H620v160ZM180-180h160v-160H180v160Zm440 0h160v-160H620v160Z\"/>\n",
              "  </svg>\n",
              "    </button>\n",
              "\n",
              "  <style>\n",
              "    .colab-df-container {\n",
              "      display:flex;\n",
              "      gap: 12px;\n",
              "    }\n",
              "\n",
              "    .colab-df-convert {\n",
              "      background-color: #E8F0FE;\n",
              "      border: none;\n",
              "      border-radius: 50%;\n",
              "      cursor: pointer;\n",
              "      display: none;\n",
              "      fill: #1967D2;\n",
              "      height: 32px;\n",
              "      padding: 0 0 0 0;\n",
              "      width: 32px;\n",
              "    }\n",
              "\n",
              "    .colab-df-convert:hover {\n",
              "      background-color: #E2EBFA;\n",
              "      box-shadow: 0px 1px 2px rgba(60, 64, 67, 0.3), 0px 1px 3px 1px rgba(60, 64, 67, 0.15);\n",
              "      fill: #174EA6;\n",
              "    }\n",
              "\n",
              "    .colab-df-buttons div {\n",
              "      margin-bottom: 4px;\n",
              "    }\n",
              "\n",
              "    [theme=dark] .colab-df-convert {\n",
              "      background-color: #3B4455;\n",
              "      fill: #D2E3FC;\n",
              "    }\n",
              "\n",
              "    [theme=dark] .colab-df-convert:hover {\n",
              "      background-color: #434B5C;\n",
              "      box-shadow: 0px 1px 3px 1px rgba(0, 0, 0, 0.15);\n",
              "      filter: drop-shadow(0px 1px 2px rgba(0, 0, 0, 0.3));\n",
              "      fill: #FFFFFF;\n",
              "    }\n",
              "  </style>\n",
              "\n",
              "    <script>\n",
              "      const buttonEl =\n",
              "        document.querySelector('#df-67ab99bd-6676-49ea-b9e0-71a2c7e5fa17 button.colab-df-convert');\n",
              "      buttonEl.style.display =\n",
              "        google.colab.kernel.accessAllowed ? 'block' : 'none';\n",
              "\n",
              "      async function convertToInteractive(key) {\n",
              "        const element = document.querySelector('#df-67ab99bd-6676-49ea-b9e0-71a2c7e5fa17');\n",
              "        const dataTable =\n",
              "          await google.colab.kernel.invokeFunction('convertToInteractive',\n",
              "                                                    [key], {});\n",
              "        if (!dataTable) return;\n",
              "\n",
              "        const docLinkHtml = 'Like what you see? Visit the ' +\n",
              "          '<a target=\"_blank\" href=https://colab.research.google.com/notebooks/data_table.ipynb>data table notebook</a>'\n",
              "          + ' to learn more about interactive tables.';\n",
              "        element.innerHTML = '';\n",
              "        dataTable['output_type'] = 'display_data';\n",
              "        await google.colab.output.renderOutput(dataTable, element);\n",
              "        const docLink = document.createElement('div');\n",
              "        docLink.innerHTML = docLinkHtml;\n",
              "        element.appendChild(docLink);\n",
              "      }\n",
              "    </script>\n",
              "  </div>\n",
              "\n",
              "\n",
              "<div id=\"df-b837325d-faea-4ff9-9fa6-202985839b19\">\n",
              "  <button class=\"colab-df-quickchart\" onclick=\"quickchart('df-b837325d-faea-4ff9-9fa6-202985839b19')\"\n",
              "            title=\"Suggest charts\"\n",
              "            style=\"display:none;\">\n",
              "\n",
              "<svg xmlns=\"http://www.w3.org/2000/svg\" height=\"24px\"viewBox=\"0 0 24 24\"\n",
              "     width=\"24px\">\n",
              "    <g>\n",
              "        <path d=\"M19 3H5c-1.1 0-2 .9-2 2v14c0 1.1.9 2 2 2h14c1.1 0 2-.9 2-2V5c0-1.1-.9-2-2-2zM9 17H7v-7h2v7zm4 0h-2V7h2v10zm4 0h-2v-4h2v4z\"/>\n",
              "    </g>\n",
              "</svg>\n",
              "  </button>\n",
              "\n",
              "<style>\n",
              "  .colab-df-quickchart {\n",
              "      --bg-color: #E8F0FE;\n",
              "      --fill-color: #1967D2;\n",
              "      --hover-bg-color: #E2EBFA;\n",
              "      --hover-fill-color: #174EA6;\n",
              "      --disabled-fill-color: #AAA;\n",
              "      --disabled-bg-color: #DDD;\n",
              "  }\n",
              "\n",
              "  [theme=dark] .colab-df-quickchart {\n",
              "      --bg-color: #3B4455;\n",
              "      --fill-color: #D2E3FC;\n",
              "      --hover-bg-color: #434B5C;\n",
              "      --hover-fill-color: #FFFFFF;\n",
              "      --disabled-bg-color: #3B4455;\n",
              "      --disabled-fill-color: #666;\n",
              "  }\n",
              "\n",
              "  .colab-df-quickchart {\n",
              "    background-color: var(--bg-color);\n",
              "    border: none;\n",
              "    border-radius: 50%;\n",
              "    cursor: pointer;\n",
              "    display: none;\n",
              "    fill: var(--fill-color);\n",
              "    height: 32px;\n",
              "    padding: 0;\n",
              "    width: 32px;\n",
              "  }\n",
              "\n",
              "  .colab-df-quickchart:hover {\n",
              "    background-color: var(--hover-bg-color);\n",
              "    box-shadow: 0 1px 2px rgba(60, 64, 67, 0.3), 0 1px 3px 1px rgba(60, 64, 67, 0.15);\n",
              "    fill: var(--button-hover-fill-color);\n",
              "  }\n",
              "\n",
              "  .colab-df-quickchart-complete:disabled,\n",
              "  .colab-df-quickchart-complete:disabled:hover {\n",
              "    background-color: var(--disabled-bg-color);\n",
              "    fill: var(--disabled-fill-color);\n",
              "    box-shadow: none;\n",
              "  }\n",
              "\n",
              "  .colab-df-spinner {\n",
              "    border: 2px solid var(--fill-color);\n",
              "    border-color: transparent;\n",
              "    border-bottom-color: var(--fill-color);\n",
              "    animation:\n",
              "      spin 1s steps(1) infinite;\n",
              "  }\n",
              "\n",
              "  @keyframes spin {\n",
              "    0% {\n",
              "      border-color: transparent;\n",
              "      border-bottom-color: var(--fill-color);\n",
              "      border-left-color: var(--fill-color);\n",
              "    }\n",
              "    20% {\n",
              "      border-color: transparent;\n",
              "      border-left-color: var(--fill-color);\n",
              "      border-top-color: var(--fill-color);\n",
              "    }\n",
              "    30% {\n",
              "      border-color: transparent;\n",
              "      border-left-color: var(--fill-color);\n",
              "      border-top-color: var(--fill-color);\n",
              "      border-right-color: var(--fill-color);\n",
              "    }\n",
              "    40% {\n",
              "      border-color: transparent;\n",
              "      border-right-color: var(--fill-color);\n",
              "      border-top-color: var(--fill-color);\n",
              "    }\n",
              "    60% {\n",
              "      border-color: transparent;\n",
              "      border-right-color: var(--fill-color);\n",
              "    }\n",
              "    80% {\n",
              "      border-color: transparent;\n",
              "      border-right-color: var(--fill-color);\n",
              "      border-bottom-color: var(--fill-color);\n",
              "    }\n",
              "    90% {\n",
              "      border-color: transparent;\n",
              "      border-bottom-color: var(--fill-color);\n",
              "    }\n",
              "  }\n",
              "</style>\n",
              "\n",
              "  <script>\n",
              "    async function quickchart(key) {\n",
              "      const quickchartButtonEl =\n",
              "        document.querySelector('#' + key + ' button');\n",
              "      quickchartButtonEl.disabled = true;  // To prevent multiple clicks.\n",
              "      quickchartButtonEl.classList.add('colab-df-spinner');\n",
              "      try {\n",
              "        const charts = await google.colab.kernel.invokeFunction(\n",
              "            'suggestCharts', [key], {});\n",
              "      } catch (error) {\n",
              "        console.error('Error during call to suggestCharts:', error);\n",
              "      }\n",
              "      quickchartButtonEl.classList.remove('colab-df-spinner');\n",
              "      quickchartButtonEl.classList.add('colab-df-quickchart-complete');\n",
              "    }\n",
              "    (() => {\n",
              "      let quickchartButtonEl =\n",
              "        document.querySelector('#df-b837325d-faea-4ff9-9fa6-202985839b19 button');\n",
              "      quickchartButtonEl.style.display =\n",
              "        google.colab.kernel.accessAllowed ? 'block' : 'none';\n",
              "    })();\n",
              "  </script>\n",
              "</div>\n",
              "    </div>\n",
              "  </div>\n"
            ]
          },
          "metadata": {},
          "execution_count": 76
        }
      ]
    },
    {
      "cell_type": "code",
      "source": [
        "submission_baseline_2 = test[['Id', 'Predicted']]\n",
        "submission_baseline_2['Predicted'] = submission_baseline_2.Predicted.astype(str).str.replace(',', '')\n",
        "submission_baseline_2.to_csv('last_submission.csv', index=False)"
      ],
      "metadata": {
        "id": "KQ3IuplcKN2j"
      },
      "execution_count": null,
      "outputs": []
    },
    {
      "cell_type": "markdown",
      "source": [
        "## GRU и Transformer и отсуствующие вычислительные мощности\n",
        "Параметры в моделях не оптимальные, т.к. обучение и настройка гиперпараметров  проходили на Kaggle поскольку там среда выполнения кода стабильнее и видеопамяти чуть больше. Но даже из этих параметров видна разница в производительности моделей.  \n",
        "***95% кода далее были взяты из интернета, данных по теме очень много - исследуйте, копируйте, экспериментируйте!!!***\n"
      ],
      "metadata": {
        "id": "0IpGe7xazxHy"
      }
    },
    {
      "cell_type": "code",
      "source": [
        "from tqdm import tqdm\n",
        "\n",
        "import torch\n",
        "import torch.nn as nn\n",
        "import torch.optim as optim\n",
        "import torch.nn.functional as F"
      ],
      "metadata": {
        "id": "8uhOMMVwzwfc"
      },
      "execution_count": null,
      "outputs": []
    },
    {
      "cell_type": "code",
      "source": [
        "device = torch.device('cuda' if torch.cuda.is_available() else 'cpu')\n",
        "device"
      ],
      "metadata": {
        "id": "ONc2xpiw5jof"
      },
      "execution_count": null,
      "outputs": []
    },
    {
      "cell_type": "code",
      "execution_count": null,
      "metadata": {
        "id": "l8YN7b3LCiDA"
      },
      "outputs": [],
      "source": [
        "df_test = pd.read_csv('/content/drive/MyDrive/Colab Notebooks/ALFABANK_CAMPUS/DATASETS/df_test.csv', sep=';')\n",
        "df_train = pd.read_csv('/content/drive/MyDrive/Colab Notebooks/ALFABANK_CAMPUS/DATASETS/df_train.csv', sep=';')"
      ]
    },
    {
      "cell_type": "markdown",
      "source": [
        "### Потготовка данных: токенезация, добавленеи паддингов, загрузка данных в DataLoader"
      ],
      "metadata": {
        "id": "6iADtA-56gc8"
      }
    },
    {
      "cell_type": "code",
      "execution_count": null,
      "metadata": {
        "id": "lyiw0yIKKbTO"
      },
      "outputs": [],
      "source": [
        "X = df_train['Data'].apply(lambda x: [int(i) for i in x.split(',')]).values\n",
        "X_train, X_test = X[:5000], X[5000:]\n",
        "y = df_train['Target'].apply(lambda x: [int(i) for i in x.split(',')]).values\n",
        "y_train, y_test = y[:5000], y[5000:]"
      ]
    },
    {
      "cell_type": "code",
      "execution_count": null,
      "metadata": {
        "id": "-vHzoczlJHkn"
      },
      "outputs": [],
      "source": [
        "code2word = [\"<PAD>\", \"<SOS>\", \"<EOS>\"]\n",
        "\n",
        "for ds in [X]:\n",
        "    for sent in ds:\n",
        "        for token in sent:\n",
        "            if token not in code2word:\n",
        "                code2word.append(token)\n",
        "\n",
        "code2word = {token: idx for idx, token in enumerate(code2word)}\n",
        "#code2word"
      ]
    },
    {
      "cell_type": "code",
      "execution_count": null,
      "metadata": {
        "id": "-3J02DZPPZYz"
      },
      "outputs": [],
      "source": [
        "seq_length = 5000"
      ]
    },
    {
      "cell_type": "code",
      "execution_count": null,
      "metadata": {
        "id": "gJUVhBOuLaHA"
      },
      "outputs": [],
      "source": [
        "def encode_and_pad(vocab, sent, max_length):\n",
        "    sos = [vocab[\"<SOS>\"]]\n",
        "    eos = [vocab[\"<EOS>\"]]\n",
        "    pad = [vocab[\"<PAD>\"]]\n",
        "\n",
        "    if len(sent) < max_length - 2: # -2 for SOS and EOS\n",
        "        n_pads = max_length - 2 - len(sent)\n",
        "        encoded = [vocab[w] for w in sent]\n",
        "        return sos + encoded + eos + pad * n_pads\n",
        "    else: # sent is longer than max_length; truncating\n",
        "        encoded = [vocab[w] for w in sent]\n",
        "        truncated = encoded[:max_length - 2]\n",
        "        return sos + truncated + eos"
      ]
    },
    {
      "cell_type": "code",
      "execution_count": null,
      "metadata": {
        "id": "G9_1LEyLLc3C"
      },
      "outputs": [],
      "source": [
        "X_train_encoded = [encode_and_pad(code2word, sent, seq_length) for sent in X_train]\n",
        "X_test_encoded = [encode_and_pad(code2word, sent, seq_length) for sent in X_test]\n",
        "y_train_encoded = [encode_and_pad(code2word, sent, seq_length) for sent in y_train]\n",
        "y_test_encoded = [encode_and_pad(code2word, sent, seq_length) for sent in y_test]"
      ]
    },
    {
      "cell_type": "code",
      "execution_count": null,
      "metadata": {
        "id": "wqopxy-tCiDF"
      },
      "outputs": [],
      "source": [
        "from torch.utils.data import DataLoader, TensorDataset\n",
        "batch_size = 128\n",
        "train_x = np.array(X_train_encoded)\n",
        "train_y = np.array(y_train_encoded)\n",
        "test_x = np.array(X_test_encoded)\n",
        "test_y = np.array(y_test_encoded)\n",
        "\n",
        "train_ds = TensorDataset(torch.from_numpy(train_x), torch.from_numpy(train_y))\n",
        "test_ds = TensorDataset(torch.from_numpy(test_x), torch.from_numpy(test_y))\n",
        "\n",
        "\n",
        "train_dl = DataLoader(train_ds, shuffle=True, batch_size=batch_size, drop_last=True)\n",
        "test_dl = DataLoader(test_ds, shuffle=True, batch_size=batch_size, drop_last=True)"
      ]
    },
    {
      "cell_type": "code",
      "execution_count": null,
      "metadata": {
        "colab": {
          "base_uri": "https://localhost:8080/"
        },
        "id": "1PmpU6BeTUAx",
        "outputId": "6221123d-3e59-4b67-ada3-a0994b9a8441"
      },
      "outputs": [
        {
          "data": {
            "text/plain": [
              "torch.Size([2033, 5000])"
            ]
          },
          "execution_count": 14,
          "metadata": {},
          "output_type": "execute_result"
        }
      ],
      "source": [
        "test_ds.tensors[0].shape"
      ]
    },
    {
      "cell_type": "markdown",
      "source": [
        "### Енкодер и Декодер"
      ],
      "metadata": {
        "id": "PwSMLw7t63y8"
      }
    },
    {
      "cell_type": "code",
      "execution_count": null,
      "metadata": {
        "id": "E5gs4r0oCiDF"
      },
      "outputs": [],
      "source": [
        "class EncoderRNN(nn.Module):\n",
        "    def __init__(self, input_size, hidden_size):\n",
        "        super(EncoderRNN, self).__init__()\n",
        "        self.hidden_size = hidden_size\n",
        "\n",
        "        # Embedding layer\n",
        "        self.embedding = nn.Embedding(input_size, hidden_size, padding_idx=0)\n",
        "\n",
        "        # GRU layer. The input and output are both of the same size\n",
        "        #  since embedding size = hidden size in this example\n",
        "        self.gru = nn.GRU(hidden_size, hidden_size, batch_first=True)\n",
        "\n",
        "    def forward(self, input, hidden):\n",
        "        # The inputs are first transformed into embeddings\n",
        "        embedded = self.embedding(input)\n",
        "        output = embedded\n",
        "\n",
        "        # As in any RNN, the new input and the previous hidden states are fed\n",
        "        #  into the model at each time step\n",
        "        output, hidden = self.gru(output, hidden)\n",
        "        return output, hidden\n",
        "\n",
        "    def initHidden(self):\n",
        "        # This method is used to create the innitial hidden states for the encoder\n",
        "        return torch.zeros(1, batch_size, self.hidden_size)"
      ]
    },
    {
      "cell_type": "code",
      "execution_count": null,
      "metadata": {
        "id": "Yax3XnqaCiDG"
      },
      "outputs": [],
      "source": [
        "class DecoderRNN(nn.Module):\n",
        "    def __init__(self, hidden_size, output_size):\n",
        "        super(DecoderRNN, self).__init__()\n",
        "        self.hidden_size = hidden_size\n",
        "\n",
        "        # Embedding layer\n",
        "        self.embedding = nn.Embedding(output_size, hidden_size, padding_idx=0)\n",
        "\n",
        "        # The GRU layer\n",
        "        self.gru = nn.GRU(hidden_size, hidden_size)\n",
        "\n",
        "        # Fully-connected layer for scores\n",
        "        self.out = nn.Linear(hidden_size, output_size)\n",
        "\n",
        "        # Applying Softmax to the scores\n",
        "        self.softmax = nn.LogSoftmax(dim=1)\n",
        "\n",
        "    def forward(self, input, hidden):\n",
        "        # Feeding input through embedding layer\n",
        "        output = self.embedding(input)\n",
        "\n",
        "        # Applying an activation function (ReLu)\n",
        "        output = F.relu(output)\n",
        "\n",
        "        # Feeding input and previous hidden state\n",
        "        output, hidden = self.gru(output, hidden)\n",
        "\n",
        "        # Outputting scores from the final time-step\n",
        "        output = self.softmax(self.out(output[0]))\n",
        "\n",
        "        return output, hidden\n",
        "\n",
        "    # We do not need an .initHidden() method for the decoder since the\n",
        "    #  encoder output will act as input in the first decoder time-step"
      ]
    },
    {
      "cell_type": "markdown",
      "source": [
        "Получение длины словаря, и помещения Энкодера и Декодера на GPU"
      ],
      "metadata": {
        "id": "CA9kDmlI7OuL"
      }
    },
    {
      "cell_type": "code",
      "execution_count": null,
      "metadata": {
        "colab": {
          "base_uri": "https://localhost:8080/"
        },
        "id": "97bqNMucCiDG",
        "outputId": "458a6643-19a6-4ab5-9e7c-cd0d9a0db558"
      },
      "outputs": [
        {
          "data": {
            "text/plain": [
              "(True, 184)"
            ]
          },
          "execution_count": 17,
          "metadata": {},
          "output_type": "execute_result"
        }
      ],
      "source": [
        "unique_mcc_train = set()\n",
        "for i in range(len(df_train)):\n",
        "    items = df_train.loc[i, 'Data'].split(',')\n",
        "    for item in items:\n",
        "        unique_mcc_train.add(item)\n",
        "\n",
        "unique_mcc_test = set()\n",
        "for i in range(len(df_test)):\n",
        "    items = df_test.loc[i, 'Data'].split(',')\n",
        "    for item in items:\n",
        "        unique_mcc_test.add(item)\n",
        "\n",
        "len(unique_mcc_train) == len(unique_mcc_test), len(unique_mcc_train)"
      ]
    },
    {
      "cell_type": "code",
      "execution_count": null,
      "metadata": {
        "id": "HPcI9_NbCiDH"
      },
      "outputs": [],
      "source": [
        "hidden_size = 128\n",
        "\n",
        "encoder = EncoderRNN(len(unique_mcc_train)+3, hidden_size).to(device)\n",
        "decoder = DecoderRNN(hidden_size, len(unique_mcc_train)+3).to(device)"
      ]
    },
    {
      "cell_type": "markdown",
      "source": [
        "Loss - CrossEntropyLoss(). Именной такую функция используют для задачи seq2seq"
      ],
      "metadata": {
        "id": "pCIeFLX08ASr"
      }
    },
    {
      "cell_type": "code",
      "execution_count": null,
      "metadata": {
        "id": "AxnJCuENCiDH"
      },
      "outputs": [],
      "source": [
        "criterion = nn.CrossEntropyLoss()\n",
        "enc_optimizer = torch.optim.Adam(encoder.parameters(), lr = 3e-3)\n",
        "dec_optimizer = torch.optim.Adam(decoder.parameters(), lr = 3e-3)"
      ]
    },
    {
      "cell_type": "markdown",
      "source": [
        "### Обучение модели и получение предикта"
      ],
      "metadata": {
        "id": "KqiHT18j9pEO"
      }
    },
    {
      "cell_type": "code",
      "execution_count": null,
      "metadata": {
        "id": "B21FTIZDCiDI"
      },
      "outputs": [],
      "source": [
        "losses = []"
      ]
    },
    {
      "cell_type": "code",
      "execution_count": null,
      "metadata": {
        "colab": {
          "background_save": true
        },
        "id": "PuL85AN1CiDI"
      },
      "outputs": [],
      "source": [
        "input_length = target_length = seq_length\n",
        "\n",
        "SOS = code2word[\"<SOS>\"]\n",
        "EOS = code2word[\"<EOS>\"]\n",
        "\n",
        "epochs = 15\n",
        "\n",
        "for epoch in range(epochs):\n",
        "    for idx, batch in enumerate(train_dl):\n",
        "\n",
        "        # Creating initial hidden states for the encoder\n",
        "        encoder_hidden = encoder.initHidden()\n",
        "\n",
        "        # Sending to device\n",
        "        encoder_hidden = encoder_hidden.to(device)\n",
        "\n",
        "        # Assigning the input and sending to device\n",
        "        input_tensor = batch[0].to(device)\n",
        "\n",
        "        # Assigning the output and sending to device\n",
        "        target_tensor = batch[1].to(device)\n",
        "\n",
        "\n",
        "        # Clearing gradients\n",
        "        enc_optimizer.zero_grad()\n",
        "        dec_optimizer.zero_grad()\n",
        "\n",
        "        with torch.set_grad_enabled(True):\n",
        "\n",
        "            encoder_output, encoder_hidden = encoder(input_tensor, encoder_hidden)\n",
        "\n",
        "            dec_result = torch.zeros(target_length, batch_size, len(code2word)).to(device)\n",
        "\n",
        "            decoder_input = target_tensor[:, 0].unsqueeze(dim=0).to(device)\n",
        "\n",
        "            decoder_hidden = encoder_hidden\n",
        "\n",
        "            for i in range(1, target_length):\n",
        "\n",
        "                decoder_output, decoder_hidden = decoder(decoder_input, decoder_hidden)\n",
        "\n",
        "                best = decoder_output.argmax(1)\n",
        "\n",
        "                decoder_input = best.unsqueeze(dim=0)\n",
        "\n",
        "\n",
        "                dec_result[i] = decoder_output\n",
        "\n",
        "            scores = dec_result.transpose(1, 0)[1:].reshape(-1, dec_result.shape[2])\n",
        "            targets = target_tensor[1:].reshape(-1)\n",
        "\n",
        "            loss = criterion(scores, targets)\n",
        "\n",
        "            loss.backward()\n",
        "\n",
        "            torch.nn.utils.clip_grad_norm_(encoder.parameters(), max_norm=1)\n",
        "            torch.nn.utils.clip_grad_norm_(decoder.parameters(), max_norm=1)\n",
        "\n",
        "            enc_optimizer.step()\n",
        "            dec_optimizer.step()\n",
        "\n",
        "            losses.append(loss.item())\n",
        "            if idx % 16 == 0:\n",
        "                print('Эпоха: {} , idx: {}, нормированный loss {}'.format(epoch ,idx, sum(losses)/len(losses)))"
      ]
    },
    {
      "cell_type": "code",
      "execution_count": null,
      "metadata": {
        "id": "Bh_zcIaCQIUo"
      },
      "outputs": [],
      "source": [
        "plt.plot(losses)"
      ]
    },
    {
      "cell_type": "code",
      "execution_count": null,
      "metadata": {
        "id": "B88jeDwiIU_9"
      },
      "outputs": [],
      "source": [
        "index2code = {}\n",
        "for key, index in code2word.items():\n",
        "    index2code[index] = key"
      ]
    },
    {
      "cell_type": "code",
      "execution_count": null,
      "metadata": {
        "id": "P7HjeYE5IRMm"
      },
      "outputs": [],
      "source": [
        "X_test_tensor = torch.tensor(X_test_encoded)\n",
        "results= []\n",
        "for sample in X_test_tensor:\n",
        "    result = []\n",
        "    encoder_hidden = torch.zeros(1, 1, hidden_size)\n",
        "    encoder_hidden = encoder_hidden.to(device)\n",
        "\n",
        "    input_tensor = sample.to(device).unsqueeze(dim=0)\n",
        "\n",
        "    enc_optimizer.zero_grad()\n",
        "    dec_optimizer.zero_grad()\n",
        "\n",
        "\n",
        "    encoder_outputs = torch.zeros(seq_length, encoder.hidden_size, device=device)\n",
        "\n",
        "\n",
        "    with torch.set_grad_enabled(False):\n",
        "        encoder_output, encoder_hidden = encoder(input_tensor, encoder_hidden)\n",
        "\n",
        "        dec_result = torch.zeros(target_length, 1, len(code2word)).to(device)\n",
        "\n",
        "        decoder_input = torch.tensor([SOS]).unsqueeze(dim=0).to(device)\n",
        "        decoder_hidden = encoder_hidden\n",
        "        for di in range(1, target_length):\n",
        "            decoder_output, decoder_hidden = decoder(decoder_input, decoder_hidden)\n",
        "            best = decoder_output.argmax(1)\n",
        "            result.append(index2code[best.to('cpu').item()])\n",
        "            if best.item() == EOS:\n",
        "                break\n",
        "\n",
        "            decoder_input = best.unsqueeze(dim=0)\n",
        "            dec_result[di] = decoder_output\n",
        "        results.append(result)\n",
        "        scores = dec_result.reshape(-1, dec_result.shape[2])\n",
        "        targets = target_tensor.reshape(-1)"
      ]
    },
    {
      "cell_type": "code",
      "execution_count": null,
      "metadata": {
        "id": "4CrqXQe_Iizv"
      },
      "outputs": [],
      "source": [
        "results = [i[:-1] for i in results]"
      ]
    },
    {
      "cell_type": "code",
      "execution_count": null,
      "metadata": {
        "id": "_XvQaDoNInYp"
      },
      "outputs": [],
      "source": [
        "mapk(results,list(y_test))"
      ]
    },
    {
      "cell_type": "markdown",
      "source": [
        "### Вывод о GRU"
      ],
      "metadata": {
        "id": "yoJpXctoAepg"
      }
    },
    {
      "cell_type": "markdown",
      "source": [
        "В результате обучения на пределе вычислительных возможностей и использовании оптимальных параметров максимальный скор по map@k достиг примерно 0.16..., что очевидно не достаточно. При визуальном просмотре предиктов, можно увидить, что порой модель предсказывала самый частый mcc-код в истории клиента.\n",
        "\n",
        "Можно сделать вывод о том, что GRU не способна заглянуть так глубоко в историю клиента.\n",
        "\n",
        "__Решение:__ попробовать трансформер"
      ],
      "metadata": {
        "id": "C5GthXt0Avul"
      }
    },
    {
      "cell_type": "code",
      "source": [
        "import torchmetrics\n",
        "import math"
      ],
      "metadata": {
        "id": "gq_gFpMPJDK6"
      },
      "execution_count": null,
      "outputs": []
    },
    {
      "cell_type": "code",
      "source": [
        "X = df_train['Data'].apply(lambda x: [int(i) for i in x.split(',')]).values\n",
        "X_train, X_val = X[:900], X[900:1200]\n",
        "y = df_train['Target'].apply(lambda x: [int(i) for i in x.split(',')]).values\n",
        "y_train, y_val = y[:900], y[900:1200]"
      ],
      "metadata": {
        "id": "wRnC8caXJtGg"
      },
      "execution_count": null,
      "outputs": []
    },
    {
      "cell_type": "code",
      "source": [
        "def encode_and_pad(vocab, sent, max_length):\n",
        "    sos = [vocab[\"<SOS>\"]]\n",
        "    eos = [vocab[\"<EOS>\"]]\n",
        "    pad = [vocab[\"<PAD>\"]]\n",
        "\n",
        "    if len(sent) < max_length - 2: # -2 for SOS and EOS\n",
        "        n_pads = max_length - 2 - len(sent)\n",
        "        encoded = [vocab[w] for w in sent]\n",
        "        return sos + encoded + eos + pad * n_pads\n",
        "    else: # sent is longer than max_length; truncating\n",
        "        encoded = [vocab[w] for w in sent]\n",
        "        truncated = encoded[ : max_length -2]\n",
        "        return sos + truncated + eos"
      ],
      "metadata": {
        "id": "IMR7W4ZmJ05z"
      },
      "execution_count": null,
      "outputs": []
    },
    {
      "cell_type": "code",
      "source": [
        "code2index = [\"<PAD>\", \"<SOS>\", \"<EOS>\"]\n",
        "\n",
        "for ds in [X]:\n",
        "    for sent in ds:\n",
        "        for token in sent:\n",
        "            if token not in code2index:\n",
        "                code2index.append(token)\n",
        "\n",
        "code2index = {token: idx for idx, token in enumerate(code2index)}"
      ],
      "metadata": {
        "id": "a5wcPXHpJyRs"
      },
      "execution_count": null,
      "outputs": []
    },
    {
      "cell_type": "code",
      "source": [
        "seq_length = 500"
      ],
      "metadata": {
        "id": "u7zfx8OdzQ93"
      },
      "execution_count": null,
      "outputs": []
    },
    {
      "cell_type": "code",
      "source": [
        "X_train_encoded = [encode_and_pad(code2index, sent, seq_length) for sent in X_train]\n",
        "X_val_encoded = [encode_and_pad(code2index, sent, seq_length) for sent in X_val]\n",
        "y_train_encoded = [encode_and_pad(code2index, sent, 10) for sent in y_train]\n",
        "y_val_encoded = [encode_and_pad(code2index, sent, 10) for sent in y_val]"
      ],
      "metadata": {
        "id": "PcwsQXfwt4dg"
      },
      "execution_count": null,
      "outputs": []
    },
    {
      "cell_type": "code",
      "source": [
        "from torch.utils.data import DataLoader, TensorDataset\n",
        "batch_size = 128\n",
        "train_x = np.array(X_train_encoded)\n",
        "train_y = np.array(y_train_encoded)\n",
        "test_x = np.array(X_val_encoded)\n",
        "test_y = np.array(y_val_encoded)\n",
        "\n",
        "train_ds = TensorDataset(torch.from_numpy(train_x), torch.from_numpy(train_y))\n",
        "test_ds = TensorDataset(torch.from_numpy(test_x), torch.from_numpy(test_y))\n",
        "\n",
        "\n",
        "train_dataloader = DataLoader(train_ds, shuffle=True, batch_size=batch_size, drop_last=True)\n",
        "val_dataloader = DataLoader(test_ds, shuffle=True, batch_size=batch_size, drop_last=True)"
      ],
      "metadata": {
        "id": "jYEi71nlsVeD"
      },
      "execution_count": null,
      "outputs": []
    },
    {
      "cell_type": "markdown",
      "source": [
        "### Transformer Model"
      ],
      "metadata": {
        "id": "YAXqjLnhKMQW"
      }
    },
    {
      "cell_type": "code",
      "source": [
        "class PositionalEncoding(nn.Module):\n",
        "    def __init__(self, dim_model, dropout_p, max_len):\n",
        "        super().__init__()\n",
        "\n",
        "        self.dropout = nn.Dropout(dropout_p)\n",
        "\n",
        "        pos_encoding = torch.zeros(max_len, dim_model)\n",
        "        positions_list = torch.arange(0, max_len, dtype=torch.float).view(-1, 1) # 0, 1, 2, 3, 4, 5\n",
        "        division_term = torch.exp(torch.arange(0, dim_model, 2).float() * (-math.log(10000.0)) / dim_model) # 1000^(2i/dim_model)\n",
        "        pos_encoding[:, 0::2] = torch.sin(positions_list * division_term)\n",
        "        pos_encoding[:, 1::2] = torch.cos(positions_list * division_term)\n",
        "\n",
        "        pos_encoding = pos_encoding.unsqueeze(0).transpose(0, 1)\n",
        "        self.register_buffer(\"pos_encoding\",pos_encoding)\n",
        "\n",
        "    def forward(self, token_embedding: torch.tensor) -> torch.tensor:\n",
        "        return self.dropout(token_embedding + self.pos_encoding[:token_embedding.size(0), :])"
      ],
      "metadata": {
        "id": "vZamhjU3MMo_"
      },
      "execution_count": null,
      "outputs": []
    },
    {
      "cell_type": "code",
      "source": [
        "class Transformer(nn.Module):\n",
        "    def __init__(\n",
        "        self,\n",
        "        num_tokens,\n",
        "        dim_model,\n",
        "        num_heads,\n",
        "        num_encoder_layers,\n",
        "        num_decoder_layers,\n",
        "        dropout_p,\n",
        "    ):\n",
        "        super().__init__()\n",
        "\n",
        "        self.model_type = \"Transformer\"\n",
        "        self.dim_model = dim_model\n",
        "\n",
        "        # LAYERS\n",
        "        self.positional_encoder = PositionalEncoding(\n",
        "            dim_model=dim_model, dropout_p=dropout_p, max_len=500\n",
        "        )\n",
        "        self.embedding = nn.Embedding(num_tokens, dim_model)\n",
        "        self.transformer = nn.Transformer(\n",
        "            d_model=dim_model,\n",
        "            nhead=num_heads,\n",
        "            num_encoder_layers=num_encoder_layers,\n",
        "            num_decoder_layers=num_decoder_layers,\n",
        "            dropout=dropout_p,\n",
        "        )\n",
        "        self.out = nn.Linear(dim_model, num_tokens)\n",
        "\n",
        "    def forward(self, src, tgt, tgt_mask=None, src_pad_mask=None, tgt_pad_mask=None):\n",
        "        # Src size must be (batch_size, src sequence length)\n",
        "        # Tgt size must be (batch_size, tgt sequence length)\n",
        "\n",
        "        # Embedding + positional encoding - Out size = (batch_size, sequence length, dim_model)\n",
        "        src = self.embedding(src) * math.sqrt(self.dim_model)\n",
        "        tgt = self.embedding(tgt) * math.sqrt(self.dim_model)\n",
        "        src = self.positional_encoder(src)\n",
        "        tgt = self.positional_encoder(tgt)\n",
        "\n",
        "        # We could use the parameter batch_first=True, but our KDL version doesn't support it yet, so we permute\n",
        "        # to obtain size (sequence length, batch_size, dim_model),\n",
        "        src = src.permute(1,0,2)\n",
        "        tgt = tgt.permute(1,0,2)\n",
        "\n",
        "        # Transformer blocks - Out size = (sequence length, batch_size, num_tokens)\n",
        "        transformer_out = self.transformer(src, tgt, tgt_mask=tgt_mask, src_key_padding_mask=src_pad_mask, tgt_key_padding_mask=tgt_pad_mask)\n",
        "        out = self.out(transformer_out)\n",
        "\n",
        "        return out\n",
        "\n",
        "    def get_tgt_mask(self, size) -> torch.tensor:\n",
        "        # Generates a squeare matrix where the each row allows one word more to be seen\n",
        "        mask = torch.tril(torch.ones(size, size) == 1) # Lower triangular matrix\n",
        "        mask = mask.float()\n",
        "        mask = mask.masked_fill(mask == 0, float('-inf')) # Convert zeros to -inf\n",
        "        mask = mask.masked_fill(mask == 1, float(0.0)) # Convert ones to 0\n",
        "\n",
        "        # EX for size=5:\n",
        "        # [[0., -inf, -inf, -inf, -inf],\n",
        "        #  [0.,   0., -inf, -inf, -inf],\n",
        "        #  [0.,   0.,   0., -inf, -inf],\n",
        "        #  [0.,   0.,   0.,   0., -inf],\n",
        "        #  [0.,   0.,   0.,   0.,   0.]]\n",
        "\n",
        "        return mask\n",
        "\n",
        "    def create_pad_mask(self, matrix: torch.tensor, pad_token = 0) -> torch.tensor:\n",
        "      pad_token = 0\n",
        "      # If matrix = [1,2,3,0,0,0] where pad_token=0, the result mask is\n",
        "      # [False, False, False, True, True, True]\n",
        "      return (matrix == pad_token)"
      ],
      "metadata": {
        "id": "QMuzh82TLqlA"
      },
      "execution_count": null,
      "outputs": []
    },
    {
      "cell_type": "markdown",
      "source": [
        "### Train и Validation"
      ],
      "metadata": {
        "id": "gQ-YodqoRgcR"
      }
    },
    {
      "cell_type": "code",
      "source": [
        "def train_loop(model, opt, loss_fn, dataloader):\n",
        "\n",
        "\n",
        "    model.train()\n",
        "    total_loss = 0\n",
        "\n",
        "    for batch in dataloader:\n",
        "        X, y = batch[0].to(device), batch[1].to(device)\n",
        "        #X, y = torch.tensor(X).to(device), torch.tensor(y).to(device)\"\"\"\n",
        "        \"\"\"X, y = batch[:, 0], batch[:, 1]\n",
        "        X, y = torch.tensor(X).to(device), torch.tensor(y).to(device)\"\"\"\n",
        "\n",
        "        # Now we shift the tgt by one so with the <SOS> we predict the token at pos 1\n",
        "        y_input = y[:,:-1]\n",
        "        y_expected = y[:,1:]\n",
        "\n",
        "        # Get mask to mask out the next words\n",
        "        sequence_length = y_input.size(1)\n",
        "        tgt_mask = model.get_tgt_mask(sequence_length).to(device)\n",
        "\n",
        "        # Standard training except we pass in y_input and tgt_mask\n",
        "        pred = model(X, y_input, tgt_mask)\n",
        "\n",
        "        # Permute pred to have batch size first again\n",
        "        pred = pred.permute(1, 2, 0)\n",
        "        loss = loss_fn(pred, y_expected)\n",
        "\n",
        "        opt.zero_grad()\n",
        "        loss.backward()\n",
        "        opt.step()\n",
        "\n",
        "        total_loss += loss.detach().item()\n",
        "\n",
        "    return total_loss / len(dataloader)"
      ],
      "metadata": {
        "id": "Plp5I1iDNKod"
      },
      "execution_count": null,
      "outputs": []
    },
    {
      "cell_type": "code",
      "source": [
        "def validation_loop(model, loss_fn, dataloader):\n",
        "    \"\"\"\n",
        "    \"\"\"\n",
        "\n",
        "    model.eval()\n",
        "    total_loss = 0\n",
        "\n",
        "    with torch.no_grad():\n",
        "        for batch in dataloader:\n",
        "            X, y = batch[0].to(device), batch[1].to(device)\n",
        "        #X, y = torch.tensor(X).to(device), torch.tensor(y).to(device)\n",
        "            '''X, y = batch[:, 0], batch[:, 1]\n",
        "            X, y = torch.tensor(X, dtype=torch.long, device=device), torch.tensor(y, dtype=torch.long, device=device)'''\n",
        "\n",
        "            # Now we shift the tgt by one so with the <SOS> we predict the token at pos 1\n",
        "            y_input = y[:,:-1]\n",
        "\n",
        "            y_expected = y[:,1:]\n",
        "\n",
        "            # Get mask to mask out the next words\n",
        "            sequence_length = y_input.size(1)\n",
        "            tgt_mask = model.get_tgt_mask(sequence_length).to(device)\n",
        "\n",
        "\n",
        "            # Standard training except we pass in y_input and src_mask\n",
        "            pred = model(X, y_input, tgt_mask)\n",
        "\n",
        "            # Permute pred to have batch size first again\n",
        "            pred = pred.permute(1, 2, 0)\n",
        "            loss = loss_fn(pred, y_expected)\n",
        "            total_loss += loss.detach().item()\n",
        "\n",
        "    return total_loss / len(dataloader)"
      ],
      "metadata": {
        "id": "4kxvRzqmNNw3"
      },
      "execution_count": null,
      "outputs": []
    },
    {
      "cell_type": "code",
      "source": [
        "model = Transformer(\n",
        "    num_tokens=187, dim_model=64, num_heads=8, num_encoder_layers=4, num_decoder_layers=4, dropout_p=0.1\n",
        ").to(device)\n",
        "opt = torch.optim.Adam(model.parameters(), lr=0.0009)\n",
        "loss_fn = nn.CrossEntropyLoss()"
      ],
      "metadata": {
        "id": "vLuNCtfaMxaQ"
      },
      "execution_count": null,
      "outputs": []
    },
    {
      "cell_type": "code",
      "source": [
        "def fit(model, opt, loss_fn, train_dataloader, val_dataloader, epochs):\n",
        "    \"\"\"\n",
        "    \"\"\"\n",
        "\n",
        "    # Used for plotting later on\n",
        "    train_loss_list, validation_loss_list = [], []\n",
        "\n",
        "    print(\"Training and validating model\")\n",
        "    for epoch in range(epochs):\n",
        "        print(\"-\"*25, f\"Epoch {epoch + 1}\",\"-\"*25)\n",
        "\n",
        "        train_loss = train_loop(model, opt, loss_fn, train_dataloader)\n",
        "        train_loss_list += [train_loss]\n",
        "\n",
        "        validation_loss = validation_loop(model, loss_fn, val_dataloader)\n",
        "        validation_loss_list += [validation_loss]\n",
        "\n",
        "        print(f\"Training loss: {train_loss:.4f}\")\n",
        "        print(f\"Validation loss: {validation_loss:.4f}\")\n",
        "        print()\n",
        "\n",
        "    return train_loss_list, validation_loss_list\n",
        "\n",
        "train_loss_list, validation_loss_list = fit(model, opt, loss_fn, train_dataloader, val_dataloader, 30)"
      ],
      "metadata": {
        "id": "dpH3F-B3NSEJ"
      },
      "execution_count": null,
      "outputs": []
    },
    {
      "cell_type": "code",
      "source": [
        "def predict(model, input_sequence, max_length=10, SOS_token=1, EOS_token=2):\n",
        "    \"\"\"\n",
        "    Method from \"A detailed guide to Pytorch's nn.Transformer() module.\", by\n",
        "    Daniel Melchor: https://medium.com/@danielmelchor/a-detailed-guide-to-pytorchs-nn-transformer-module-c80afbc9ffb1\n",
        "    \"\"\"\n",
        "    model.eval()\n",
        "\n",
        "    y_input = torch.tensor([[SOS_token]], dtype=torch.long, device=device)\n",
        "\n",
        "\n",
        "    num_tokens = len(input_sequence[0])\n",
        "\n",
        "\n",
        "    for _ in range(max_length):\n",
        "        # Get source mask\n",
        "        tgt_mask = model.get_tgt_mask(y_input.size(1)).to(device)\n",
        "\n",
        "        pred = model(input_sequence, y_input, tgt_mask)\n",
        "        next_item = pred.topk(1)[1].view(-1)[-1].item() # num with highest probability\n",
        "        next_item = torch.tensor([[next_item]], device=device)\n",
        "\n",
        "        # Concatenate previous input with predicted best word\n",
        "        y_input = torch.cat((y_input, next_item), dim=1)\n",
        "\n",
        "        # Stop if model predicts end of sentence\n",
        "        if next_item.view(-1).item() == EOS_token:\n",
        "            break\n",
        "\n",
        "    return y_input.view(-1).tolist()"
      ],
      "metadata": {
        "id": "lhD-rTgI0MRV"
      },
      "execution_count": null,
      "outputs": []
    },
    {
      "cell_type": "code",
      "source": [
        "index2code = {v: k for k, v in code2index.items()}"
      ],
      "metadata": {
        "id": "-bc8VvBPY_oc"
      },
      "execution_count": null,
      "outputs": []
    },
    {
      "cell_type": "code",
      "source": [
        "for i in range(400, 500):\n",
        "  example = torch.tensor([X_train_encoded[i]], dtype=torch.long, device=device)\n",
        "  result = predict(model, example)\n",
        "  predict1 = []\n",
        "  for j in result[1:]:\n",
        "    predict1.append(index2code[j])\n",
        "  print(\"predict1: {} target: {}\".format(predict1, df_train.Target.iloc[i]))"
      ],
      "metadata": {
        "id": "q8VGiXkf0QGk"
      },
      "execution_count": null,
      "outputs": []
    },
    {
      "cell_type": "markdown",
      "source": [
        "Код из следующей статьи - попытка оптимизировать обучение с помощью [аккумуляцией градиентов по микробатчам](https://sebastianraschka.com/blog/2023/llm-grad-accumulation.html#what-is-gradient-accumulation). Поскольку [размер батча крайне важен](https://openreview.net/forum?id=B1Yy1BxCZ) в обучении трансформеров.\n"
      ],
      "metadata": {
        "id": "lda1HiOxKzfi"
      }
    },
    {
      "cell_type": "code",
      "source": [
        "def train(num_epochs, model, optimizer, train_loader, val_loader, fabric, accumulation_steps):\n",
        "\n",
        "    for epoch in range(num_epochs):\n",
        "        train_acc = torchmetrics.Accuracy(\n",
        "            task=\"multiclass\", num_classes=2).to(fabric.device)\n",
        "\n",
        "        for batch_idx, batch in enumerate(train_loader):\n",
        "            model.train()\n",
        "\n",
        "            ### FORWARD AND BACK PROP\n",
        "            outputs = model(\n",
        "                batch[\"input_ids\"],\n",
        "                attention_mask=batch[\"attention_mask\"],\n",
        "                labels=batch[\"label\"]\n",
        "            )\n",
        "\n",
        "            outputs[\"loss\"] = outputs[\"loss\"] / accumulation_steps\n",
        "            fabric.backward(outputs[\"loss\"])\n",
        "\n",
        "            ### UPDATE MODEL PARAMETERS\n",
        "            if not batch_idx % accumulation_steps:\n",
        "                optimizer.step()\n",
        "                optimizer.zero_grad()\n",
        "\n",
        "            ### LOGGING\n",
        "            if not batch_idx % 300:\n",
        "                print(f\"Epoch: {epoch+1:04d}/{num_epochs:04d} \"\n",
        "                      f\"| Batch {batch_idx:04d}/{len(train_loader):04d} \"\n",
        "                      f\"| Loss: {outputs['loss']:.4f}\")\n",
        "\n",
        "            model.eval()\n",
        "            with torch.no_grad():\n",
        "                predicted_labels = torch.argmax(outputs[\"logits\"], 1)\n",
        "                train_acc.update(predicted_labels, batch[\"label\"])\n",
        "\n",
        "        ### MORE LOGGING\n",
        "        model.eval()\n",
        "        with torch.no_grad():\n",
        "            val_acc = torchmetrics.Accuracy(task=\"multiclass\", num_classes=2).to(fabric.device)\n",
        "            for batch in val_loader:\n",
        "                outputs = model(\n",
        "                    batch[\"input_ids\"],\n",
        "                    attention_mask=batch[\"attention_mask\"],\n",
        "                    labels=batch[\"label\"]\n",
        "                )\n",
        "                predicted_labels = torch.argmax(outputs[\"logits\"], 1)\n",
        "                val_acc.update(predicted_labels, batch[\"label\"])\n",
        "\n",
        "            print(f\"Epoch: {epoch+1:04d}/{num_epochs:04d} \"\n",
        "                  f\"| Train acc.: {train_acc.compute()*100:.2f}% \"\n",
        "                  f\"| Val acc.: {val_acc.compute()*100:.2f}%\"\n",
        "                  )\n",
        "            train_acc.reset(), val_acc.reset()"
      ],
      "metadata": {
        "id": "-04fgpBsAt8S"
      },
      "execution_count": null,
      "outputs": []
    },
    {
      "cell_type": "markdown",
      "source": [
        "### Вывод по трансформеру\n",
        "Поиграв с гиперпараметрами я понял, что для обучения тарнсформера, требуетсся гараздо большие вычислительные мощности. Повышение размера батча, голов Multi-head self attention или слоёв энеодеров или декодеров - всё это требует видео памяти. В результате подель недообучена, и порой на выход подаёт последовательность длиной меньше 10, а про качестово и говорит нечего."
      ],
      "metadata": {
        "id": "e210T2b2NIOY"
      }
    }
  ]
}