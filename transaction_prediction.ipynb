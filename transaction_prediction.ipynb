{
  "cells": [
    {
      "cell_type": "markdown",
      "metadata": {
        "id": "tiCWP339fGmr"
      },
      "source": [
        "Лисоченко Тимофей. t.lisoch16@gmail.com tg: @slugamonolitha"
      ]
    },
    {
      "cell_type": "markdown",
      "metadata": {
        "id": "X8eAZ1o_5Cw5"
      },
      "source": [
        "## NO-ML решение\n",
        "____\n",
        "Смотреть его. Нейросетевые решения приведены ниже, всего лишь, как попытка применить более продвинутые методы из NLP (GRU, Transformer) для данной задачи, как для задачи seq2seq"
      ]
    },
    {
      "cell_type": "markdown",
      "metadata": {
        "id": "vIqtUJHaXsHZ"
      },
      "source": [
        "### Импорты и скачивание данных"
      ]
    },
    {
      "cell_type": "code",
      "execution_count": null,
      "metadata": {
        "id": "PWuf3-_S8r8W"
      },
      "outputs": [],
      "source": [
        "import pandas as pd\n",
        "import numpy as np\n",
        "import matplotlib.pyplot as plt\n",
        "import seaborn as sns\n",
        "\n",
        "plt.style.use(['ggplot'])\n",
        "\n",
        "import warnings\n",
        "warnings.filterwarnings(\"ignore\")\n",
        "\n",
        "import scipy.stats as stats\n",
        "import statsmodels as sts\n",
        "import statistics"
      ]
    },
    {
      "cell_type": "markdown",
      "metadata": {},
      "source": [
        "Загрузить данные можно из файлов в ропазитории  \n",
        "https://github.com/T1mSan1ch/Card-transactions-prediction-ALFABANK/tree/main "
      ]
    },
    {
      "cell_type": "code",
      "execution_count": null,
      "metadata": {
        "id": "jf2zxNAT9zrk"
      },
      "outputs": [],
      "source": [
        "test = pd.read_csv('df_test.csv', sep=';')\n",
        "train = pd.read_csv('df_train.csv', sep=';')"
      ]
    },
    {
      "cell_type": "markdown",
      "metadata": {
        "id": "HFsKpH4stXKc"
      },
      "source": [
        "Создадим копии датафремов где строки будут списками"
      ]
    },
    {
      "cell_type": "code",
      "execution_count": null,
      "metadata": {
        "id": "n4D9VCr2gjD5"
      },
      "outputs": [],
      "source": [
        "df_train = train.copy()\n",
        "df_test = test.copy()"
      ]
    },
    {
      "cell_type": "code",
      "execution_count": null,
      "metadata": {
        "id": "jnDpMDnbE_YL"
      },
      "outputs": [],
      "source": [
        "df_train['Data'] = train.Data.apply(lambda s: list(map(int, s.split(','))))\n",
        "df_train['Target'] = train.Target.apply(lambda s: list(map(int, s.split(','))))\n",
        "df_test['Data'] = test.Data.apply(lambda s: list(map(int, s.split(','))))"
      ]
    },
    {
      "cell_type": "markdown",
      "metadata": {
        "id": "k-6AdRvAxbC-"
      },
      "source": [
        "#### Асимптотическое среднее"
      ]
    },
    {
      "cell_type": "code",
      "execution_count": null,
      "metadata": {
        "id": "LrJ864LYxZCw"
      },
      "outputs": [],
      "source": [
        "def asy_mean_test(mean_hat, std_hat, mu_0=0,\n",
        "                   alpha=0.05, alternative='two-sided', margin=3):\n",
        "    \"\"\"\n",
        "        Асимптотический тест для равенства средних\n",
        "    \"\"\"\n",
        "\n",
        "    z_obs = (mean_hat - mu_0)/std_hat\n",
        "\n",
        "    # cdf - куммулятивная функция распределения\n",
        "    # ppf - критическое значение\n",
        "    if alternative == 'two-sided':\n",
        "        p_value = 2 * (1 - stats.norm().cdf(np.abs(z_obs)))\n",
        "        z_crit = stats.norm().ppf(1 - alpha/2) # построение отступа, где альфа - ур. знач.\n",
        "\n",
        "        statistics = ['-z_crit', 'z_crit', '-z_obs', 'z_obs']\n",
        "        params = dict(zip(statistics, [(-z_crit, -0.6, -margin, -z_crit, 'b'),\n",
        "                                        (z_crit, 0.05, z_crit, margin, 'b'),\n",
        "                                        (-z_obs, -0.6, -margin, -z_obs, 'r'),\n",
        "                                        (z_obs, 0.1, z_obs, margin, 'r')]))\n",
        "\n",
        "    if alternative == 'less':\n",
        "        p_value = stats.norm().cdf(z_obs)\n",
        "        z_crit = stats.norm().ppf(1 - alpha)\n",
        "\n",
        "        statistics = ['-z_crit', '-z_obs']\n",
        "        params = dict(zip(statistics, [(-z_crit, -0.6, -margin, -z_crit, 'b'),\n",
        "                                       (-z_obs, -0.6, -margin, -z_obs, 'r')]))\n",
        "\n",
        "    if alternative == 'larger':\n",
        "        p_value = 1 - stats.norm().cdf(z_obs)\n",
        "        z_crit = stats.norm().ppf(1 - alpha)\n",
        "\n",
        "        statistics = ['z_crit', 'z_obs']\n",
        "        params = dict(zip(statistics, [(z_crit, 0.05, z_crit, margin, 'b'),\n",
        "                                       (z_obs, 0.1, z_obs, margin, 'r')]))\n",
        "\n",
        "\n",
        "    plt.figure(figsize = (10, 5))\n",
        "    x = np.linspace(-margin, margin)\n",
        "    pdf = stats.norm().pdf(x)\n",
        "\n",
        "    plt.plot(x, pdf, color=\"black\")\n",
        "    plt.ylabel(\"$f(x)$\", fontsize=16)\n",
        "    plt.xlabel(\"$x$\", fontsize=16)\n",
        "    y_max = plt.ylim()[1]\n",
        "\n",
        "    for i in range(len(statistics)):\n",
        "        statistic, text_margin, left_bound, right_bound, color = params[statistics[i]]\n",
        "\n",
        "        plt.axvline(statistic, color=color, linestyle=\"--\", lw=2)\n",
        "        h = 0.8 if statistics[i].split('_')[-1] == 'crit' else 0.6\n",
        "        plt.text(statistic + text_margin,\n",
        "                 h*y_max, round(statistic, 2), color=color, fontsize=16)\n",
        "\n",
        "        xq = np.linspace(left_bound, right_bound)\n",
        "        yq = stats.norm().pdf(xq)\n",
        "        plt.fill_between(xq, 0, yq, color=color, alpha=0.2)\n",
        "\n",
        "    return p_value"
      ]
    },
    {
      "cell_type": "markdown",
      "metadata": {
        "id": "Gmp6oo1sxnVT"
      },
      "source": [
        "### EDA и гипотезы"
      ]
    },
    {
      "cell_type": "code",
      "execution_count": null,
      "metadata": {
        "colab": {
          "base_uri": "https://localhost:8080/"
        },
        "id": "dch-ftHYsA7Q",
        "outputId": "a0fcf42f-22d8-49c5-e4db-1e9d09028d88"
      },
      "outputs": [
        {
          "data": {
            "text/plain": [
              "(0.0, 1000.0)"
            ]
          },
          "execution_count": 7,
          "metadata": {},
          "output_type": "execute_result"
        },
        {
          "data": {
            "image/png": "[encoded data removed]",
            "text/plain": [
              "<Figure size 500x500 with 1 Axes>"
            ]
          },
          "metadata": {},
          "output_type": "display_data"
        }
      ],
      "source": [
        "plt.figure(figsize=(8, 6), dpi=100)\n",
        "df_train.Data.apply(len).hist(figsize = (5,5), bins = 1000)\n",
        "plt.xlim(right=1000)\n",
        "plt.xlim(left=0)"
      ]
    },
    {
      "cell_type": "code",
      "execution_count": null,
      "metadata": {
        "id": "TLWyH316vSdH"
      },
      "outputs": [],
      "source": [
        "count_train_data = []\n",
        "count_test_data = []\n",
        "\n",
        "for client in df_train.Data:\n",
        "  count_train_data.append(len(client))\n",
        "\n",
        "for client in df_test.Data:\n",
        "  count_test_data.append(len(client))"
      ]
    },
    {
      "cell_type": "code",
      "execution_count": null,
      "metadata": {
        "id": "NZ9-RR7W1uW1"
      },
      "outputs": [],
      "source": [
        "count_test_data = np.array(count_test_data)\n",
        "count_train_data = np.array(count_train_data)"
      ]
    },
    {
      "cell_type": "markdown",
      "metadata": {
        "id": "_OzTMWYDG5W8"
      },
      "source": [
        "Нормально ли распределение?"
      ]
    },
    {
      "cell_type": "code",
      "execution_count": null,
      "metadata": {
        "colab": {
          "base_uri": "https://localhost:8080/"
        },
        "id": "bnUn8Vm4F3vR",
        "outputId": "b8b80f1c-983a-41e0-b376-e8d20d30cd4f"
      },
      "outputs": [
        {
          "data": {
            "text/plain": [
              "ShapiroResult(statistic=0.12388652563095093, pvalue=0.0)"
            ]
          },
          "execution_count": 10,
          "metadata": {},
          "output_type": "execute_result"
        }
      ],
      "source": [
        "shapiro_train = stats.shapiro(count_test_data)\n",
        "shapiro_train"
      ]
    },
    {
      "cell_type": "markdown",
      "metadata": {
        "id": "OkCX3xLaHAcA"
      },
      "source": [
        "- Нет. Тогда посмотрим на графики и убидимся в этом."
      ]
    },
    {
      "cell_type": "code",
      "execution_count": null,
      "metadata": {
        "colab": {
          "base_uri": "https://localhost:8080/"
        },
        "id": "XTantiJi3lRN",
        "outputId": "8efcaf93-3672-4e71-a0c0-812c3fd0b0c7"
      },
      "outputs": [
        {
          "name": "stderr",
          "output_type": "stream",
          "text": [
            "WARNING:matplotlib.legend:No artists with labels found to put in legend.  Note that artists whose label start with an underscore are ignored when legend() is called with no argument.\n",
            "WARNING:matplotlib.legend:No artists with labels found to put in legend.  Note that artists whose label start with an underscore are ignored when legend() is called with no argument.\n"
          ]
        },
        {
          "data": {
            "text/plain": [
              "(0.0, 10000.0)"
            ]
          },
          "execution_count": 11,
          "metadata": {},
          "output_type": "execute_result"
        },
        {
          "data": {
            "image/png": "[encoded data removed]",
            "text/plain": [
              "<Figure size 1000x400 with 2 Axes>"
            ]
          },
          "metadata": {},
          "output_type": "display_data"
        }
      ],
      "source": [
        "fig, axes = plt.subplots(1, 2, figsize=(10,4), dpi=100)\n",
        "sns.histplot(\n",
        "    (count_train_data),\n",
        "    ax=axes[0],\n",
        "    bins=100,\n",
        "    color = 'b' ,\n",
        "    kde=True);\n",
        "sns.histplot(\n",
        "    (count_test_data),\n",
        "    ax=axes[1],\n",
        "    bins=600,\n",
        "    kde=True);\n",
        "\n",
        "fig.suptitle(\"Распределение длин историй в train и в test\")\n",
        "\n",
        "axes[0].legend(title=\"Медиана {:.3f} \\n Среднее {:.3f}\".format(\n",
        "              (np.median(count_train_data)),\n",
        "              (count_train_data.mean())),\n",
        "              loc=\"upper right\")\n",
        "axes[0].axvline(np.median(count_train_data), color='g')\n",
        "axes[0].axvline(count_train_data.mean(), color='black')\n",
        "axes[0].set_ylabel(\"средние длины историй\")\n",
        "axes[0].set_xlim(0, 10000)\n",
        "\n",
        "axes[1].legend(title=\"Медиана {:.3f} \\n Среднее {:.3f}\".format(\n",
        "              (np.median(count_test_data)),\n",
        "              (count_test_data.mean())),\n",
        "              loc=\"upper right\")\n",
        "axes[1].axvline((np.median(count_test_data)), color='g')\n",
        "axes[1].axvline((count_test_data.mean()), color='black')\n",
        "axes[1].set_ylabel(\"средние длины историй\")\n",
        "axes[1].set_xlim(0, 10000)"
      ]
    },
    {
      "cell_type": "markdown",
      "metadata": {
        "id": "FcIQpk9-xdA4"
      },
      "source": [
        "Больше напоминает $\\chi^2_{n}$. Воспользуемся тестом Калмогорова."
      ]
    },
    {
      "cell_type": "code",
      "execution_count": null,
      "metadata": {
        "colab": {
          "base_uri": "https://localhost:8080/"
        },
        "id": "AF7l7xoo2rir",
        "outputId": "07e20b13-bee5-425a-8ffe-baecebbf2f00"
      },
      "outputs": [
        {
          "data": {
            "text/plain": [
              "KstestResult(statistic=0.9562916034388173, pvalue=0.0, statistic_location=1197, statistic_sign=1)"
            ]
          },
          "execution_count": 12,
          "metadata": {},
          "output_type": "execute_result"
        }
      ],
      "source": [
        "stats.kstest(count_train_data, 'chi2', args=(count_train_data.mean(), count_train_data.std(ddof=1)))"
      ]
    },
    {
      "cell_type": "markdown",
      "metadata": {
        "id": "NCdShyqD25ZL"
      },
      "source": [
        "Но это не $\\chi^2_{n}$, пускай это будет неизвестные распределение, но посмотреть на то, как они вглядят хочется. Применим преобразование Бокса-Кокса."
      ]
    },
    {
      "cell_type": "code",
      "execution_count": null,
      "metadata": {
        "colab": {
          "base_uri": "https://localhost:8080/"
        },
        "id": "ADFLapD117Va",
        "outputId": "7f911b3c-b2d5-44fd-d8ca-3446ffa62145"
      },
      "outputs": [
        {
          "name": "stderr",
          "output_type": "stream",
          "text": [
            "WARNING:matplotlib.legend:No artists with labels found to put in legend.  Note that artists whose label start with an underscore are ignored when legend() is called with no argument.\n",
            "WARNING:matplotlib.legend:No artists with labels found to put in legend.  Note that artists whose label start with an underscore are ignored when legend() is called with no argument.\n"
          ]
        },
        {
          "data": {
            "text/plain": [
              "Text(0, 0.5, '$log(средней длины)$')"
            ]
          },
          "execution_count": 13,
          "metadata": {},
          "output_type": "execute_result"
        },
        {
          "data": {
            "image/png": "[encoded data removed]",
            "text/plain": [
              "<Figure size 900x400 with 2 Axes>"
            ]
          },
          "metadata": {},
          "output_type": "display_data"
        }
      ],
      "source": [
        "fig, axes = plt.subplots(1, 2, figsize=(9,4), dpi=100)\n",
        "sns.histplot(\n",
        "    np.log(count_train_data),\n",
        "    ax=axes[0],\n",
        "    bins=100,\n",
        "    color = 'b' ,\n",
        "    kde=True);\n",
        "sns.histplot(\n",
        "    np.log(count_test_data),\n",
        "    ax=axes[1],\n",
        "    bins=100,\n",
        "    kde=True);\n",
        "\n",
        "fig.suptitle(\"Распределение длин историй в train и в test\")\n",
        "\n",
        "axes[0].legend(title=\"Медиана {:.3f} \\n Среднее {:.3f}\".format(\n",
        "              np.log(np.median(count_train_data)),\n",
        "              np.log(count_train_data.mean())),\n",
        "              loc=\"upper right\")\n",
        "axes[0].axvline(np.log(np.median(count_train_data)), color='g')\n",
        "axes[0].axvline(np.log(count_train_data.mean()), color='black')\n",
        "axes[0].set_ylabel(\"$log(средней длины)$\")\n",
        "\n",
        "axes[1].legend(title=\"Медиана {:.3f} \\n Среднее {:.3f}\".format(\n",
        "              np.log(np.median(count_test_data)),\n",
        "              np.log(count_test_data.mean())),\n",
        "              loc=\"upper right\")\n",
        "axes[1].axvline(np.log(np.median(count_test_data)), color='g')\n",
        "axes[1].axvline(np.log(count_test_data.mean()), color='black')\n",
        "axes[1].set_ylabel(\"$log(средней длины)$\")"
      ]
    },
    {
      "cell_type": "markdown",
      "metadata": {
        "id": "T7P2Kvk0DfvM"
      },
      "source": [
        "Графики выглядят похожими:\n",
        "* Гипотеза: Данные из трейна и теста пришли из одного распределения. Воспользуемся тестом Калмогорова-Смирнова\n",
        "\n",
        "$$\n",
        "\\begin{aligned}\n",
        "H_0 : X_1 \\sim X_2 \\\\\n",
        "H_1 : X_1 \\nsim X_2\n",
        "\\end{aligned}\n",
        "$$"
      ]
    },
    {
      "cell_type": "code",
      "execution_count": null,
      "metadata": {
        "colab": {
          "base_uri": "https://localhost:8080/"
        },
        "id": "wxlzlnNrCxKa",
        "outputId": "f66775be-335e-459d-c401-026f59d759c4"
      },
      "outputs": [
        {
          "data": {
            "text/plain": [
              "KstestResult(statistic=0.01635148585241007, pvalue=0.303985536729003, statistic_location=372, statistic_sign=1)"
            ]
          },
          "execution_count": 14,
          "metadata": {},
          "output_type": "execute_result"
        }
      ],
      "source": [
        "stats.ks_2samp(count_train_data, count_test_data)"
      ]
    },
    {
      "cell_type": "markdown",
      "metadata": {
        "id": "K1OfDy0GEM2q"
      },
      "source": [
        "Видим, что $p\\_value$ на порядок выше $5\\%$, значит гипотеза не отвергается."
      ]
    },
    {
      "cell_type": "markdown",
      "metadata": {
        "id": "lNWRscZ9x0PF"
      },
      "source": [
        "* Гипотеза: Средняя длина последовательности в train и test равны\n",
        "Проверка гипотезы о равенстве средних. Выборки независимые. $alpha=5$\n",
        "\n",
        "$$\n",
        "\\begin{aligned}\n",
        "&H_0: \\hspace{2mm} m_1 = m_2 \\hspace{2mm} \\text{Средние равны} \\\\\n",
        "&H_1: \\hspace{2mm} m_1 \\ne m_2  \\hspace{2mm} \\text{Есть различия}\n",
        "\\end{aligned}\n",
        "$$"
      ]
    },
    {
      "cell_type": "code",
      "execution_count": null,
      "metadata": {
        "id": "I8A4BiNs2zEz"
      },
      "outputs": [],
      "source": [
        "alpha = 0.05                                                                           # уровень значимости = 5%\n",
        "nx, ny = count_train_data.size, count_test_data.size                                   # размер выборок\n",
        "\n",
        "diff =  count_test_data.mean() -  count_train_data.mean()                              # разность средних\n",
        "diff_std = np.sqrt(count_train_data.var(ddof=1)/nx + count_test_data.var(ddof=1)/ny)   # стандартное отклонение\n"
      ]
    },
    {
      "cell_type": "code",
      "execution_count": null,
      "metadata": {
        "colab": {
          "base_uri": "https://localhost:8080/"
        },
        "id": "_sRnLk143uTu",
        "outputId": "a3de5150-ec62-49da-8fa1-4c48b9e8ac5e"
      },
      "outputs": [
        {
          "data": {
            "text/plain": [
              "0.4271677367964686"
            ]
          },
          "execution_count": 16,
          "metadata": {},
          "output_type": "execute_result"
        },
        {
          "data": {
            "image/png": "[encoded data removed]",
            "text/plain": [
              "<Figure size 1000x500 with 1 Axes>"
            ]
          },
          "metadata": {},
          "output_type": "display_data"
        }
      ],
      "source": [
        "asy_mean_test(diff, diff_std, mu_0=0, alpha=0.05, alternative='larger')"
      ]
    },
    {
      "cell_type": "markdown",
      "metadata": {
        "id": "9czXAlVlxsd_"
      },
      "source": [
        "Нулевая гипотеза не отвергается, средние заначения действительно близки."
      ]
    },
    {
      "cell_type": "code",
      "execution_count": null,
      "metadata": {
        "colab": {
          "base_uri": "https://localhost:8080/"
        },
        "id": "__1oyy2-x_-S",
        "outputId": "c0f528f0-b824-47b2-b212-6069671a093f"
      },
      "outputs": [
        {
          "data": {
            "text/plain": [
              "3.4332432816721052"
            ]
          },
          "execution_count": 17,
          "metadata": {},
          "output_type": "execute_result"
        }
      ],
      "source": [
        "diff =  count_test_data.mean() -  count_train_data.mean()\n",
        "diff"
      ]
    },
    {
      "cell_type": "markdown",
      "metadata": {
        "id": "_D3T1LndIEaZ"
      },
      "source": [
        "Проверка гипотезы о равенстве средних и одинаковом распределении важны поскольку:\n",
        "\n",
        "1.   Функция, которая выполняет роль предикта, создавалась с оглядкой на тестовые данные, так-как валидироваться можно было только на них.\n",
        "2.   Одинаковое распределение гарантирует, что данные в выборках в среднем ведут себя схожим образом.\n",
        "3.   Резюмируя предыдущие пункты, функция проводя манипуляции с данными из тестовой выборки, будет работать аналогичным образом и с тестовой выборкой.\n",
        "\n"
      ]
    },
    {
      "cell_type": "markdown",
      "metadata": {
        "id": "QBDdmDcW6alV"
      },
      "source": [
        "#### Получим длины историй клиентов"
      ]
    },
    {
      "cell_type": "code",
      "execution_count": null,
      "metadata": {
        "colab": {
          "base_uri": "https://localhost:8080/"
        },
        "id": "a-SKcvCKBg7r",
        "outputId": "b9f167b5-50c4-404c-afe1-6f789c73a514"
      },
      "outputs": [
        {
          "data": {
            "text/plain": [
              "[(4210, 21101),\n",
              " (2451, 19177),\n",
              " (538, 18994),\n",
              " (1774, 15396),\n",
              " (807, 15196),\n",
              " (6699, 14734),\n",
              " (5370, 14504),\n",
              " (2122, 12327),\n",
              " (691, 12061),\n",
              " (3749, 12045)]"
            ]
          },
          "execution_count": 7,
          "metadata": {},
          "output_type": "execute_result"
        }
      ],
      "source": [
        "number_of_transactions = dict()\n",
        "\n",
        "for i in range(0, 7033):\n",
        "  number_of_transactions[i] = len(train.Data.iloc[i].split(','))\n",
        "\n",
        "sorted_number_of_transactions = sorted(number_of_transactions.items(), key=lambda x: x[1], reverse=True)\n",
        "sorted_number_of_transactions[:10] # 10 самых длинных историй"
      ]
    },
    {
      "cell_type": "code",
      "execution_count": null,
      "metadata": {
        "colab": {
          "base_uri": "https://localhost:8080/"
        },
        "id": "vgo5scwBKUWE",
        "outputId": "0ab44510-6e7d-4e2f-d57c-ec3a646c459c"
      },
      "outputs": [
        {
          "data": {
            "text/plain": [
              "[(3420, 40),\n",
              " (4014, 40),\n",
              " (4679, 40),\n",
              " (4924, 40),\n",
              " (5068, 40),\n",
              " (5842, 40),\n",
              " (6035, 40),\n",
              " (6259, 40),\n",
              " (6422, 40),\n",
              " (7018, 40)]"
            ]
          },
          "execution_count": 8,
          "metadata": {},
          "output_type": "execute_result"
        }
      ],
      "source": [
        "sorted_number_of_transactions[-10:] # самых коротких историй"
      ]
    },
    {
      "cell_type": "markdown",
      "metadata": {
        "id": "FhiIxZK1vvYI"
      },
      "source": [
        "### Функция, выполняющая роль предикта"
      ]
    },
    {
      "cell_type": "markdown",
      "metadata": {
        "id": "TGlfmDNks2lk"
      },
      "source": [
        "__Ход написания функции предикта__\n",
        "\n",
        "\n",
        "1.   `take_top10` - Самый базовый вариант решения. Просто берет топ 10 mcc кодов в истории. Даже не дойдя до предикта очевидно, что этоне оптимальное решение, тем не менее код я реализовал, это позволило мне от чего-то отталкиваться.\n",
        "2.  Учитывать частотность эффективние, но в таком случае её нужно как-то считать. Для этого был написана функция `take_top_tail`, который проходится по истории и сначало считает количество для каждого mcc, потом происходит сортировка по count. Преобразуется в списки, поскольку кортежи неизменяемые, а я хочу учесть частоту. Для каждой пары [mcc, count] добавляется частотта встречаесмости.\n",
        "3.  `weighted_10` - идея была округлить все вероятности, тогда все коды, которые ничего толком и незначат пропадут, а коды с вероятностью `0.08` или `0.19` округлятся ведь это почти `0.1` и `0.2` соответсвенно, логично было бы их округлить, а остальное откинуть\n",
        "`for item in reversed(temp10):`\n",
        "`if item[2] < 0.1:` `temp10.pop()`. Такое решение учитывает и крайние случаи и стандартные. По ходу разработки я проверил нет ли в тестовых и тренировочных данных таких клиентов, у которых есть только коды с вероятностью меньше 0.1 . Первый предикт был сделан на этом этапе - `map@10 = 0.255`.\n",
        "4.  Посколько требуется предсказать 10 следующих, то необходимо подумать о неком тренде, который модет быть в данных. Для этого я решил увеличивать вес последних кодов из начально трети, а потом я добавил параметр, который позволяет регулировать вес - `weight_booster`, который предаётся кодам, и параметр, который у регулирует часть - `tail`, которой предаются больший вес.\n",
        "5. Позже я решил добавить другой метод учета вероятности встречаемости кодов - `counted_10` в прочем результаты неудовлетворительны, поэтому он не используется."
      ]
    },
    {
      "cell_type": "code",
      "execution_count": null,
      "metadata": {
        "id": "PZdmvyymwJ4d"
      },
      "outputs": [],
      "source": [
        "import random\n",
        "\n",
        "def predict_next10_mcc(df : pd.DataFrame,\n",
        "                      shuffled=False,\n",
        "                      counted =False,\n",
        "                      tail=0,\n",
        "                      weight_booster=1):\n",
        "\n",
        "  \"\"\"\n",
        "    Предсказывает 10 следующих транзакций клиента по его истории оппераций.\n",
        "    Параметр `tail` и `weight_booster` позволяют учитывать тренд в данных.\n",
        "\n",
        "    Parameters\n",
        "    ----------\n",
        "    df : pandas.DataFrame\n",
        "        На вход принимает датафрейм, где в столбце `Data` содержатся истории\n",
        "        клиентов в формате `str`\n",
        "    counted : bool\n",
        "        Использует метода `counted_10` в качестве предикта. Качество хуже\n",
        "        Default is `False`\n",
        "    shuffled : bool\n",
        "        Используется вместе с `counted_10`. Перемешивает предикт этой функции,\n",
        "        что в свою очередь повышает качество предикта\n",
        "        Default is `False`\n",
        "    tail : float **LESS THEN 1.0**\n",
        "        tail определяет склько процентов mcc-кодов c конца истории клиента\n",
        "        получат большей вес. Вес - кол-во конкретного mcc кода в истории клиента.\n",
        "        Позволяет учесть тренд в данных.\n",
        "    weight_booster : float or int\n",
        "        Число на которое будет домнажаться количество кодов, которое встретилось\n",
        "        в конце истории транзакций\n",
        "        Default is `1`\n",
        "\n",
        "    Returns\n",
        "    -------\n",
        "    predict : list\n",
        "        Возвращает список, элементы которого содержат 10 mcc кодов разделенных\n",
        "        запятой и пробелом.\n",
        "\n",
        "  \"\"\"\n",
        "\n",
        "  def take_top_tail(df, tail=0, weight_booster=1):\n",
        "\n",
        "    if tail > 1.0:\n",
        "      raise ValueError(\"Число должно быть меньше или равно 1. Значения выше `0.444` понижают качество\")\n",
        "\n",
        "    weighted_top = []\n",
        "    for row in df.Data:\n",
        "      arr = row.split(\",\")\n",
        "      sum_of_mcc = len(arr)\n",
        "      row_top = dict()\n",
        "      last33per = int(sum_of_mcc * tail)\n",
        "      iter = 0\n",
        "      for mcc in arr:\n",
        "        iter +=1\n",
        "        if iter < (sum_of_mcc - last33per):\n",
        "          if mcc not in row_top:\n",
        "            row_top[mcc] = 0\n",
        "          row_top[mcc] += 1\n",
        "        else:\n",
        "          if mcc not in row_top:\n",
        "            row_top[mcc] = 0\n",
        "          row_top[mcc] += weight_booster\n",
        "\n",
        "      sorted_count_mcc = (sorted(row_top.items(), key=lambda x: x[1], reverse=True))\n",
        "      new_lst = [list(tup) for tup in sorted_count_mcc]\n",
        "      for i in range(len(new_lst)):\n",
        "        a = new_lst[i]\n",
        "        new_lst[i] = [a[0], a[1], a[1]/ sum_of_mcc]\n",
        "      weighted_top.append(new_lst)\n",
        "\n",
        "    return weighted_top\n",
        "\n",
        "  def take_10(row_top: list()):\n",
        "    '''\n",
        "    Получает строку, то есть список списков вида [[mcc, count, freq], [ , , ], ...].\n",
        "    '''\n",
        "\n",
        "    top10 = []\n",
        "    if len(row_top) >= 10:\n",
        "      for i in range(0, 10):\n",
        "        top10.append(row_top[i][0])\n",
        "      return top10\n",
        "    else:\n",
        "      while len(top10) < 10:\n",
        "        for i in range(len(row_top)):\n",
        "          top10.append(row_top[i][0])\n",
        "      return top10[:10]\n",
        "\n",
        "  def weighted_10(row_top: list()):\n",
        "    \"\"\"\n",
        "    Получает строку, то есть список списков вида [[mcc, count, freq], [ , , ], ...].\n",
        "    \"\"\"\n",
        "\n",
        "    top10 = []\n",
        "    temp10 = row_top[:10]\n",
        "    for i in range(len(temp10)):\n",
        "      temp10[i][2] = round(temp10[i][2], 1)\n",
        "    for item in reversed(temp10):\n",
        "      if item[2] < 0.1:\n",
        "        temp10.pop()\n",
        "      else:\n",
        "        break\n",
        "    if len(temp10) == 10:\n",
        "      for i in range(0, 10):\n",
        "        top10.append(temp10[i][0])\n",
        "      return top10\n",
        "    else:\n",
        "      sum_of_freq = 0\n",
        "      while len(top10) < 10:\n",
        "        for i in range(len(temp10)):\n",
        "          sum_of_freq += (temp10[i][2])\n",
        "          if temp10[i][2] >= 0.1:\n",
        "            top10.append(temp10[i][0])\n",
        "      return top10[:10]\n",
        "\n",
        "  def counted_10(row_top: list(), shuffled):\n",
        "    \"\"\"\n",
        "    Получает строку, то есть список списков вида [[mcc, count, freq], [ , , ], ...].\n",
        "    \"\"\"\n",
        "\n",
        "    top10 = []\n",
        "    temp10 = row_top[:10]\n",
        "    for i in range(len(temp10)):\n",
        "      temp10[i][2] = int(10 * round(temp10[i][2], 1)) + 1\n",
        "\n",
        "    for i in range(0, len(temp10)):\n",
        "      for _ in range(temp10[i][2]):\n",
        "        top10.append(temp10[i][0])\n",
        "    if shuffled:\n",
        "      x = top10[:10]\n",
        "      random.shuffle(x)\n",
        "      return x\n",
        "    else:\n",
        "      return top10[:10]\n",
        "\n",
        "  predict = []\n",
        "  data_stats = take_top_tail(df, tail, weight_booster)\n",
        "  if counted:\n",
        "    for i in range(len(data_stats)):\n",
        "      predict.append((counted_10(data_stats[i], shuffled=shuffled))) # ', '.join\n",
        "  else:\n",
        "    for i in range(len(data_stats)):\n",
        "      predict.append((weighted_10(data_stats[i]))) # ', '.join\n",
        "\n",
        "  return predict"
      ]
    },
    {
      "cell_type": "markdown",
      "metadata": {
        "id": "6v2-vV0irJPi"
      },
      "source": [
        "### Метрика"
      ]
    },
    {
      "cell_type": "code",
      "execution_count": null,
      "metadata": {
        "id": "3nXUCgdDxJo5"
      },
      "outputs": [],
      "source": [
        "def apk(actual, predicted, k=10):\n",
        "  \"\"\"\n",
        "    Computes the average precision at k.\n",
        "\n",
        "    This function computes the average prescision at k between two lists of\n",
        "    items.\n",
        "\n",
        "    Parameters\n",
        "    ----------\n",
        "    actual : list\n",
        "             A list of elements that are to be predicted (order doesn't matter)\n",
        "    predicted : list\n",
        "                A list of predicted elements (order does matter)\n",
        "    k : int, optional\n",
        "        The maximum number of predicted elements\n",
        "\n",
        "    Returns\n",
        "    -------\n",
        "    score : double\n",
        "            The average precision at k over the input lists\n",
        "\n",
        "  \"\"\"\n",
        "  if len(predicted) > k:\n",
        "      predicted = predicted[:k]\n",
        "\n",
        "  score = 0.0\n",
        "  num_hits = 0.0\n",
        "\n",
        "  for i, p in enumerate(predicted):\n",
        "      if p == actual[i]: # and p not in predicted[:i]\n",
        "          num_hits += 1.0\n",
        "          score += num_hits / (i+1.0)\n",
        "\n",
        "  if not actual:\n",
        "      return 0.0\n",
        "\n",
        "  return score / min(len(actual), k)\n",
        "\n",
        "def mapk(actual, predicted, k=10):\n",
        "  \"\"\"\n",
        "    Computes the mean average precision at k.\n",
        "\n",
        "    This function computes the mean average prescision at k between two lists\n",
        "    of lists of items.\n",
        "\n",
        "    Parameters\n",
        "    ----------\n",
        "    actual : list\n",
        "             A list of lists of elements that are to be predicted\n",
        "             (order doesn't matter in the lists)\n",
        "    predicted : list\n",
        "                A list of lists of predicted elements\n",
        "                (order matters in the lists)\n",
        "    k : int, optional\n",
        "        The maximum number of predicted elements\n",
        "\n",
        "    Returns\n",
        "    -------\n",
        "    score : double\n",
        "            The mean average precision at k over the input lists\n",
        "\n",
        "    \"\"\"\n",
        "  return np.mean([apk(a, p, k) for a, p in zip(actual, predicted)])"
      ]
    },
    {
      "cell_type": "markdown",
      "metadata": {
        "id": "JtpdPWfRIgqn"
      },
      "source": [
        "### Predict\n",
        "_____\n",
        "0.28825 - predict_next10_mcc(test, counted=False,shuffled = False, tail=0.2, weight_booster=8)"
      ]
    },
    {
      "cell_type": "code",
      "execution_count": null,
      "metadata": {
        "colab": {
          "base_uri": "https://localhost:8080/"
        },
        "id": "eAXYxs89jVb8",
        "outputId": "95d4f8de-04c2-434d-fa65-9dc860d33178"
      },
      "outputs": [
        {
          "name": "stdout",
          "output_type": "stream",
          "text": [
            "Параметры: tail=0.2, weight_booster=8. score: 0.00000\n"
          ]
        }
      ],
      "source": [
        "tails = [0.2, ]\n",
        "weight_boosters = [ 8]\n",
        "\n",
        "for tail in tails:\n",
        "  for weight_booster in weight_boosters:\n",
        "\n",
        "    score = mapk(df_train['Target'],\n",
        "                  predict_next10_mcc(train,\n",
        "                  counted=False,\n",
        "                  tail=tail,\n",
        "                  weight_booster=weight_booster,\n",
        "                  ))\n",
        "    print('Параметры: tail={}, weight_booster={}. score: {:.5f}'.format(\n",
        "        tail,  weight_booster, score\n",
        "    ))\n"
      ]
    },
    {
      "cell_type": "code",
      "execution_count": null,
      "metadata": {
        "colab": {
          "base_uri": "https://localhost:8080/"
        },
        "id": "OzvlDQWtPUZl",
        "outputId": "e6823a07-0e7b-479a-9124-8bfa5bf108e8"
      },
      "outputs": [
        {
          "data": {
            "text/plain": [
              "int"
            ]
          },
          "execution_count": 19,
          "metadata": {},
          "output_type": "execute_result"
        }
      ],
      "source": [
        "targ = df_train.Target.iloc[0]\n",
        "targ0 = targ[0]\n",
        "type(targ0)"
      ]
    },
    {
      "cell_type": "code",
      "execution_count": null,
      "metadata": {
        "id": "5S740EZkJ92J"
      },
      "outputs": [],
      "source": [
        "test['Predicted'] = predict_next10_mcc(test, counted=False,shuffled = False, tail=0.2, weight_booster=8)"
      ]
    },
    {
      "cell_type": "code",
      "execution_count": null,
      "metadata": {
        "colab": {
          "base_uri": "https://localhost:8080/",
          "height": 174
        },
        "id": "pysPn0NwOrEL",
        "outputId": "f21bfae2-ed5e-44cd-ea22-2f6928914bba"
      },
      "outputs": [
        {
          "data": {
            "text/html": [
              "\n",
              "  <div id=\"df-6bf0a738-f7b8-4e47-a256-658049ac3621\" class=\"colab-df-container\">\n",
              "    <div>\n",
              "<style scoped>\n",
              "    .dataframe tbody tr th:only-of-type {\n",
              "        vertical-align: middle;\n",
              "    }\n",
              "\n",
              "    .dataframe tbody tr th {\n",
              "        vertical-align: top;\n",
              "    }\n",
              "\n",
              "    .dataframe thead th {\n",
              "        text-align: right;\n",
              "    }\n",
              "</style>\n",
              "<table border=\"1\" class=\"dataframe\">\n",
              "  <thead>\n",
              "    <tr style=\"text-align: right;\">\n",
              "      <th></th>\n",
              "      <th>Id</th>\n",
              "      <th>Data</th>\n",
              "      <th>Predicted</th>\n",
              "    </tr>\n",
              "  </thead>\n",
              "  <tbody>\n",
              "    <tr>\n",
              "      <th>0</th>\n",
              "      <td>0</td>\n",
              "      <td>4814,4814,6011,6011,6010,6011,6011,4814,6011,4...</td>\n",
              "      <td>[6011, 4814, 4829, 6010, 5499, 5411, 5541, 601...</td>\n",
              "    </tr>\n",
              "    <tr>\n",
              "      <th>1</th>\n",
              "      <td>1</td>\n",
              "      <td>6010,6011,6010,5411,5411,5977,6011,6010,5411,6...</td>\n",
              "      <td>[6011, 4814, 6010, 5411, 5533, 4812, 5451, 601...</td>\n",
              "    </tr>\n",
              "    <tr>\n",
              "      <th>2</th>\n",
              "      <td>2</td>\n",
              "      <td>4814,6011,5251,6011,7832,5641,5814,4829,5311,6...</td>\n",
              "      <td>[6010, 6011, 4814, 5499, 5411, 4829, 5814, 601...</td>\n",
              "    </tr>\n",
              "    <tr>\n",
              "      <th>3</th>\n",
              "      <td>3</td>\n",
              "      <td>6011,4722,4722,4722,4814,6011,6011,4829,6011,6...</td>\n",
              "      <td>[6011, 4814, 5411, 5912, 5814, 4829, 5309, 596...</td>\n",
              "    </tr>\n",
              "  </tbody>\n",
              "</table>\n",
              "</div>\n",
              "    <div class=\"colab-df-buttons\">\n",
              "\n",
              "  <div class=\"colab-df-container\">\n",
              "    <button class=\"colab-df-convert\" onclick=\"convertToInteractive('df-6bf0a738-f7b8-4e47-a256-658049ac3621')\"\n",
              "            title=\"Convert this dataframe to an interactive table.\"\n",
              "            style=\"display:none;\">\n",
              "\n",
              "  <svg xmlns=\"http://www.w3.org/2000/svg\" height=\"24px\" viewBox=\"0 -960 960 960\">\n",
              "    <path d=\"M120-120v-720h720v720H120Zm60-500h600v-160H180v160Zm220 220h160v-160H400v160Zm0 220h160v-160H400v160ZM180-400h160v-160H180v160Zm440 0h160v-160H620v160ZM180-180h160v-160H180v160Zm440 0h160v-160H620v160Z\"/>\n",
              "  </svg>\n",
              "    </button>\n",
              "\n",
              "  <style>\n",
              "    .colab-df-container {\n",
              "      display:flex;\n",
              "      gap: 12px;\n",
              "    }\n",
              "\n",
              "    .colab-df-convert {\n",
              "      background-color: #E8F0FE;\n",
              "      border: none;\n",
              "      border-radius: 50%;\n",
              "      cursor: pointer;\n",
              "      display: none;\n",
              "      fill: #1967D2;\n",
              "      height: 32px;\n",
              "      padding: 0 0 0 0;\n",
              "      width: 32px;\n",
              "    }\n",
              "\n",
              "    .colab-df-convert:hover {\n",
              "      background-color: #E2EBFA;\n",
              "      box-shadow: 0px 1px 2px rgba(60, 64, 67, 0.3), 0px 1px 3px 1px rgba(60, 64, 67, 0.15);\n",
              "      fill: #174EA6;\n",
              "    }\n",
              "\n",
              "    .colab-df-buttons div {\n",
              "      margin-bottom: 4px;\n",
              "    }\n",
              "\n",
              "    [theme=dark] .colab-df-convert {\n",
              "      background-color: #3B4455;\n",
              "      fill: #D2E3FC;\n",
              "    }\n",
              "\n",
              "    [theme=dark] .colab-df-convert:hover {\n",
              "      background-color: #434B5C;\n",
              "      box-shadow: 0px 1px 3px 1px rgba(0, 0, 0, 0.15);\n",
              "      filter: drop-shadow(0px 1px 2px rgba(0, 0, 0, 0.3));\n",
              "      fill: #FFFFFF;\n",
              "    }\n",
              "  </style>\n",
              "\n",
              "    <script>\n",
              "      const buttonEl =\n",
              "        document.querySelector('#df-6bf0a738-f7b8-4e47-a256-658049ac3621 button.colab-df-convert');\n",
              "      buttonEl.style.display =\n",
              "        google.colab.kernel.accessAllowed ? 'block' : 'none';\n",
              "\n",
              "      async function convertToInteractive(key) {\n",
              "        const element = document.querySelector('#df-6bf0a738-f7b8-4e47-a256-658049ac3621');\n",
              "        const dataTable =\n",
              "          await google.colab.kernel.invokeFunction('convertToInteractive',\n",
              "                                                    [key], {});\n",
              "        if (!dataTable) return;\n",
              "\n",
              "        const docLinkHtml = 'Like what you see? Visit the ' +\n",
              "          '<a target=\"_blank\" href=https://colab.research.google.com/notebooks/data_table.ipynb>data table notebook</a>'\n",
              "          + ' to learn more about interactive tables.';\n",
              "        element.innerHTML = '';\n",
              "        dataTable['output_type'] = 'display_data';\n",
              "        await google.colab.output.renderOutput(dataTable, element);\n",
              "        const docLink = document.createElement('div');\n",
              "        docLink.innerHTML = docLinkHtml;\n",
              "        element.appendChild(docLink);\n",
              "      }\n",
              "    </script>\n",
              "  </div>\n",
              "\n",
              "\n",
              "<div id=\"df-07109060-e90d-4438-9460-9d013efd095c\">\n",
              "  <button class=\"colab-df-quickchart\" onclick=\"quickchart('df-07109060-e90d-4438-9460-9d013efd095c')\"\n",
              "            title=\"Suggest charts.\"\n",
              "            style=\"display:none;\">\n",
              "\n",
              "<svg xmlns=\"http://www.w3.org/2000/svg\" height=\"24px\"viewBox=\"0 0 24 24\"\n",
              "     width=\"24px\">\n",
              "    <g>\n",
              "        <path d=\"M19 3H5c-1.1 0-2 .9-2 2v14c0 1.1.9 2 2 2h14c1.1 0 2-.9 2-2V5c0-1.1-.9-2-2-2zM9 17H7v-7h2v7zm4 0h-2V7h2v10zm4 0h-2v-4h2v4z\"/>\n",
              "    </g>\n",
              "</svg>\n",
              "  </button>\n",
              "\n",
              "<style>\n",
              "  .colab-df-quickchart {\n",
              "      --bg-color: #E8F0FE;\n",
              "      --fill-color: #1967D2;\n",
              "      --hover-bg-color: #E2EBFA;\n",
              "      --hover-fill-color: #174EA6;\n",
              "      --disabled-fill-color: #AAA;\n",
              "      --disabled-bg-color: #DDD;\n",
              "  }\n",
              "\n",
              "  [theme=dark] .colab-df-quickchart {\n",
              "      --bg-color: #3B4455;\n",
              "      --fill-color: #D2E3FC;\n",
              "      --hover-bg-color: #434B5C;\n",
              "      --hover-fill-color: #FFFFFF;\n",
              "      --disabled-bg-color: #3B4455;\n",
              "      --disabled-fill-color: #666;\n",
              "  }\n",
              "\n",
              "  .colab-df-quickchart {\n",
              "    background-color: var(--bg-color);\n",
              "    border: none;\n",
              "    border-radius: 50%;\n",
              "    cursor: pointer;\n",
              "    display: none;\n",
              "    fill: var(--fill-color);\n",
              "    height: 32px;\n",
              "    padding: 0;\n",
              "    width: 32px;\n",
              "  }\n",
              "\n",
              "  .colab-df-quickchart:hover {\n",
              "    background-color: var(--hover-bg-color);\n",
              "    box-shadow: 0 1px 2px rgba(60, 64, 67, 0.3), 0 1px 3px 1px rgba(60, 64, 67, 0.15);\n",
              "    fill: var(--button-hover-fill-color);\n",
              "  }\n",
              "\n",
              "  .colab-df-quickchart-complete:disabled,\n",
              "  .colab-df-quickchart-complete:disabled:hover {\n",
              "    background-color: var(--disabled-bg-color);\n",
              "    fill: var(--disabled-fill-color);\n",
              "    box-shadow: none;\n",
              "  }\n",
              "\n",
              "  .colab-df-spinner {\n",
              "    border: 2px solid var(--fill-color);\n",
              "    border-color: transparent;\n",
              "    border-bottom-color: var(--fill-color);\n",
              "    animation:\n",
              "      spin 1s steps(1) infinite;\n",
              "  }\n",
              "\n",
              "  @keyframes spin {\n",
              "    0% {\n",
              "      border-color: transparent;\n",
              "      border-bottom-color: var(--fill-color);\n",
              "      border-left-color: var(--fill-color);\n",
              "    }\n",
              "    20% {\n",
              "      border-color: transparent;\n",
              "      border-left-color: var(--fill-color);\n",
              "      border-top-color: var(--fill-color);\n",
              "    }\n",
              "    30% {\n",
              "      border-color: transparent;\n",
              "      border-left-color: var(--fill-color);\n",
              "      border-top-color: var(--fill-color);\n",
              "      border-right-color: var(--fill-color);\n",
              "    }\n",
              "    40% {\n",
              "      border-color: transparent;\n",
              "      border-right-color: var(--fill-color);\n",
              "      border-top-color: var(--fill-color);\n",
              "    }\n",
              "    60% {\n",
              "      border-color: transparent;\n",
              "      border-right-color: var(--fill-color);\n",
              "    }\n",
              "    80% {\n",
              "      border-color: transparent;\n",
              "      border-right-color: var(--fill-color);\n",
              "      border-bottom-color: var(--fill-color);\n",
              "    }\n",
              "    90% {\n",
              "      border-color: transparent;\n",
              "      border-bottom-color: var(--fill-color);\n",
              "    }\n",
              "  }\n",
              "</style>\n",
              "\n",
              "  <script>\n",
              "    async function quickchart(key) {\n",
              "      const quickchartButtonEl =\n",
              "        document.querySelector('#' + key + ' button');\n",
              "      quickchartButtonEl.disabled = true;  // To prevent multiple clicks.\n",
              "      quickchartButtonEl.classList.add('colab-df-spinner');\n",
              "      try {\n",
              "        const charts = await google.colab.kernel.invokeFunction(\n",
              "            'suggestCharts', [key], {});\n",
              "      } catch (error) {\n",
              "        console.error('Error during call to suggestCharts:', error);\n",
              "      }\n",
              "      quickchartButtonEl.classList.remove('colab-df-spinner');\n",
              "      quickchartButtonEl.classList.add('colab-df-quickchart-complete');\n",
              "    }\n",
              "    (() => {\n",
              "      let quickchartButtonEl =\n",
              "        document.querySelector('#df-07109060-e90d-4438-9460-9d013efd095c button');\n",
              "      quickchartButtonEl.style.display =\n",
              "        google.colab.kernel.accessAllowed ? 'block' : 'none';\n",
              "    })();\n",
              "  </script>\n",
              "</div>\n",
              "    </div>\n",
              "  </div>\n"
            ],
            "text/plain": [
              "   Id                                               Data  \\\n",
              "0   0  4814,4814,6011,6011,6010,6011,6011,4814,6011,4...   \n",
              "1   1  6010,6011,6010,5411,5411,5977,6011,6010,5411,6...   \n",
              "2   2  4814,6011,5251,6011,7832,5641,5814,4829,5311,6...   \n",
              "3   3  6011,4722,4722,4722,4814,6011,6011,4829,6011,6...   \n",
              "\n",
              "                                           Predicted  \n",
              "0  [6011, 4814, 4829, 6010, 5499, 5411, 5541, 601...  \n",
              "1  [6011, 4814, 6010, 5411, 5533, 4812, 5451, 601...  \n",
              "2  [6010, 6011, 4814, 5499, 5411, 4829, 5814, 601...  \n",
              "3  [6011, 4814, 5411, 5912, 5814, 4829, 5309, 596...  "
            ]
          },
          "execution_count": 13,
          "metadata": {},
          "output_type": "execute_result"
        }
      ],
      "source": [
        "test.head(4)"
      ]
    },
    {
      "cell_type": "code",
      "execution_count": null,
      "metadata": {
        "id": "KQ3IuplcKN2j"
      },
      "outputs": [],
      "source": [
        "submission_baseline_2 = test[['Id', 'Predicted']]\n",
        "submission_baseline_2['Predicted'] = submission_baseline_2.Predicted.astype(str).str.replace(',', '')\n",
        "submission_baseline_2.to_csv('last_submission.csv', index=False)"
      ]
    },
    {
      "cell_type": "markdown",
      "metadata": {
        "id": "0IpGe7xazxHy"
      },
      "source": [
        "## GRU и Transformer и отсуствующие вычислительные мощности\n",
        "Параметры в моделях не оптимальные, т.к. обучение и настрока гиперпараметров  проходили на Kaggle поскольку там среда выполнения кода стабильние и видеопамяти чуть больше. Но даже из этих параметров видна разница в производительности моделей."
      ]
    },
    {
      "cell_type": "code",
      "execution_count": null,
      "metadata": {
        "id": "8uhOMMVwzwfc"
      },
      "outputs": [],
      "source": [
        "from tqdm import tqdm\n",
        "\n",
        "import torch\n",
        "import torch.nn as nn\n",
        "import torch.optim as optim\n",
        "import torch.nn.functional as F"
      ]
    },
    {
      "cell_type": "code",
      "execution_count": null,
      "metadata": {
        "id": "ONc2xpiw5jof"
      },
      "outputs": [],
      "source": [
        "device = torch.device('cuda' if torch.cuda.is_available() else 'cpu')\n",
        "device"
      ]
    },
    {
      "cell_type": "code",
      "execution_count": null,
      "metadata": {
        "id": "l8YN7b3LCiDA"
      },
      "outputs": [],
      "source": [
        "df_test = pd.read_csv('/content/drive/MyDrive/Colab Notebooks/ALFABANK_CAMPUS/DATASETS/df_test.csv', sep=';')\n",
        "df_train = pd.read_csv('/content/drive/MyDrive/Colab Notebooks/ALFABANK_CAMPUS/DATASETS/df_train.csv', sep=';')"
      ]
    },
    {
      "cell_type": "markdown",
      "metadata": {
        "id": "6iADtA-56gc8"
      },
      "source": [
        "### Потготовка данных: токенезация, добавленеи паддингов, загрузка данных в DataLoader"
      ]
    },
    {
      "cell_type": "code",
      "execution_count": null,
      "metadata": {
        "id": "lyiw0yIKKbTO"
      },
      "outputs": [],
      "source": [
        "X = df_train['Data'].apply(lambda x: [int(i) for i in x.split(',')]).values\n",
        "X_train, X_test = X[:5000], X[5000:]\n",
        "y = df_train['Target'].apply(lambda x: [int(i) for i in x.split(',')]).values\n",
        "y_train, y_test = y[:5000], y[5000:]"
      ]
    },
    {
      "cell_type": "code",
      "execution_count": null,
      "metadata": {
        "id": "-vHzoczlJHkn"
      },
      "outputs": [],
      "source": [
        "code2word = [\"<PAD>\", \"<SOS>\", \"<EOS>\"]\n",
        "\n",
        "for ds in [X]:\n",
        "    for sent in ds:\n",
        "        for token in sent:\n",
        "            if token not in code2word:\n",
        "                code2word.append(token)\n",
        "\n",
        "code2word = {token: idx for idx, token in enumerate(code2word)}\n",
        "#code2word"
      ]
    },
    {
      "cell_type": "code",
      "execution_count": null,
      "metadata": {
        "id": "-3J02DZPPZYz"
      },
      "outputs": [],
      "source": [
        "seq_length = 5000"
      ]
    },
    {
      "cell_type": "code",
      "execution_count": null,
      "metadata": {
        "id": "gJUVhBOuLaHA"
      },
      "outputs": [],
      "source": [
        "def encode_and_pad(vocab, sent, max_length):\n",
        "    sos = [vocab[\"<SOS>\"]]\n",
        "    eos = [vocab[\"<EOS>\"]]\n",
        "    pad = [vocab[\"<PAD>\"]]\n",
        "\n",
        "    if len(sent) < max_length - 2: # -2 for SOS and EOS\n",
        "        n_pads = max_length - 2 - len(sent)\n",
        "        encoded = [vocab[w] for w in sent]\n",
        "        return sos + encoded + eos + pad * n_pads\n",
        "    else: # sent is longer than max_length; truncating\n",
        "        encoded = [vocab[w] for w in sent]\n",
        "        truncated = encoded[:max_length - 2]\n",
        "        return sos + truncated + eos"
      ]
    },
    {
      "cell_type": "code",
      "execution_count": null,
      "metadata": {
        "id": "G9_1LEyLLc3C"
      },
      "outputs": [],
      "source": [
        "X_train_encoded = [encode_and_pad(code2word, sent, seq_length) for sent in X_train]\n",
        "X_test_encoded = [encode_and_pad(code2word, sent, seq_length) for sent in X_test]\n",
        "y_train_encoded = [encode_and_pad(code2word, sent, seq_length) for sent in y_train]\n",
        "y_test_encoded = [encode_and_pad(code2word, sent, seq_length) for sent in y_test]"
      ]
    },
    {
      "cell_type": "code",
      "execution_count": null,
      "metadata": {
        "id": "wqopxy-tCiDF"
      },
      "outputs": [],
      "source": [
        "from torch.utils.data import DataLoader, TensorDataset\n",
        "batch_size = 128\n",
        "train_x = np.array(X_train_encoded)\n",
        "train_y = np.array(y_train_encoded)\n",
        "test_x = np.array(X_test_encoded)\n",
        "test_y = np.array(y_test_encoded)\n",
        "\n",
        "train_ds = TensorDataset(torch.from_numpy(train_x), torch.from_numpy(train_y))\n",
        "test_ds = TensorDataset(torch.from_numpy(test_x), torch.from_numpy(test_y))\n",
        "\n",
        "\n",
        "train_dl = DataLoader(train_ds, shuffle=True, batch_size=batch_size, drop_last=True)\n",
        "test_dl = DataLoader(test_ds, shuffle=True, batch_size=batch_size, drop_last=True)"
      ]
    },
    {
      "cell_type": "code",
      "execution_count": null,
      "metadata": {
        "colab": {
          "base_uri": "https://localhost:8080/"
        },
        "id": "1PmpU6BeTUAx",
        "outputId": "6221123d-3e59-4b67-ada3-a0994b9a8441"
      },
      "outputs": [
        {
          "data": {
            "text/plain": [
              "torch.Size([2033, 5000])"
            ]
          },
          "execution_count": 14,
          "metadata": {},
          "output_type": "execute_result"
        }
      ],
      "source": [
        "test_ds.tensors[0].shape"
      ]
    },
    {
      "cell_type": "markdown",
      "metadata": {
        "id": "PwSMLw7t63y8"
      },
      "source": [
        "### Енкодер и Декодер"
      ]
    },
    {
      "cell_type": "code",
      "execution_count": null,
      "metadata": {
        "id": "E5gs4r0oCiDF"
      },
      "outputs": [],
      "source": [
        "class EncoderRNN(nn.Module):\n",
        "    def __init__(self, input_size, hidden_size):\n",
        "        super(EncoderRNN, self).__init__()\n",
        "        self.hidden_size = hidden_size\n",
        "\n",
        "        # Embedding layer\n",
        "        self.embedding = nn.Embedding(input_size, hidden_size, padding_idx=0)\n",
        "\n",
        "        # GRU layer. The input and output are both of the same size\n",
        "        #  since embedding size = hidden size in this example\n",
        "        self.gru = nn.GRU(hidden_size, hidden_size, batch_first=True)\n",
        "\n",
        "    def forward(self, input, hidden):\n",
        "        # The inputs are first transformed into embeddings\n",
        "        embedded = self.embedding(input)\n",
        "        output = embedded\n",
        "\n",
        "        # As in any RNN, the new input and the previous hidden states are fed\n",
        "        #  into the model at each time step\n",
        "        output, hidden = self.gru(output, hidden)\n",
        "        return output, hidden\n",
        "\n",
        "    def initHidden(self):\n",
        "        # This method is used to create the innitial hidden states for the encoder\n",
        "        return torch.zeros(1, batch_size, self.hidden_size)"
      ]
    },
    {
      "cell_type": "code",
      "execution_count": null,
      "metadata": {
        "id": "Yax3XnqaCiDG"
      },
      "outputs": [],
      "source": [
        "class DecoderRNN(nn.Module):\n",
        "    def __init__(self, hidden_size, output_size):\n",
        "        super(DecoderRNN, self).__init__()\n",
        "        self.hidden_size = hidden_size\n",
        "\n",
        "        # Embedding layer\n",
        "        self.embedding = nn.Embedding(output_size, hidden_size, padding_idx=0)\n",
        "\n",
        "        # The GRU layer\n",
        "        self.gru = nn.GRU(hidden_size, hidden_size)\n",
        "\n",
        "        # Fully-connected layer for scores\n",
        "        self.out = nn.Linear(hidden_size, output_size)\n",
        "\n",
        "        # Applying Softmax to the scores\n",
        "        self.softmax = nn.LogSoftmax(dim=1)\n",
        "\n",
        "    def forward(self, input, hidden):\n",
        "        # Feeding input through embedding layer\n",
        "        output = self.embedding(input)\n",
        "\n",
        "        # Applying an activation function (ReLu)\n",
        "        output = F.relu(output)\n",
        "\n",
        "        # Feeding input and previous hidden state\n",
        "        output, hidden = self.gru(output, hidden)\n",
        "\n",
        "        # Outputting scores from the final time-step\n",
        "        output = self.softmax(self.out(output[0]))\n",
        "\n",
        "        return output, hidden\n",
        "\n",
        "    # We do not need an .initHidden() method for the decoder since the\n",
        "    #  encoder output will act as input in the first decoder time-step"
      ]
    },
    {
      "cell_type": "markdown",
      "metadata": {
        "id": "CA9kDmlI7OuL"
      },
      "source": [
        "Получение длины словаря, и помещения Энкодера и Декодера на GPU"
      ]
    },
    {
      "cell_type": "code",
      "execution_count": null,
      "metadata": {
        "colab": {
          "base_uri": "https://localhost:8080/"
        },
        "id": "97bqNMucCiDG",
        "outputId": "458a6643-19a6-4ab5-9e7c-cd0d9a0db558"
      },
      "outputs": [
        {
          "data": {
            "text/plain": [
              "(True, 184)"
            ]
          },
          "execution_count": 17,
          "metadata": {},
          "output_type": "execute_result"
        }
      ],
      "source": [
        "unique_mcc_train = set()\n",
        "for i in range(len(df_train)):\n",
        "    items = df_train.loc[i, 'Data'].split(',')\n",
        "    for item in items:\n",
        "        unique_mcc_train.add(item)\n",
        "\n",
        "unique_mcc_test = set()\n",
        "for i in range(len(df_test)):\n",
        "    items = df_test.loc[i, 'Data'].split(',')\n",
        "    for item in items:\n",
        "        unique_mcc_test.add(item)\n",
        "\n",
        "len(unique_mcc_train) == len(unique_mcc_test), len(unique_mcc_train)"
      ]
    },
    {
      "cell_type": "code",
      "execution_count": null,
      "metadata": {
        "id": "HPcI9_NbCiDH"
      },
      "outputs": [],
      "source": [
        "hidden_size = 128\n",
        "\n",
        "encoder = EncoderRNN(len(unique_mcc_train)+3, hidden_size).to(device)\n",
        "decoder = DecoderRNN(hidden_size, len(unique_mcc_train)+3).to(device)"
      ]
    },
    {
      "cell_type": "markdown",
      "metadata": {
        "id": "pCIeFLX08ASr"
      },
      "source": [
        "Loss - CrossEntropyLoss(). Именной такую функция используют для задачи seq2seq"
      ]
    },
    {
      "cell_type": "code",
      "execution_count": null,
      "metadata": {
        "id": "AxnJCuENCiDH"
      },
      "outputs": [],
      "source": [
        "criterion = nn.CrossEntropyLoss()\n",
        "enc_optimizer = torch.optim.Adam(encoder.parameters(), lr = 3e-3)\n",
        "dec_optimizer = torch.optim.Adam(decoder.parameters(), lr = 3e-3)"
      ]
    },
    {
      "cell_type": "markdown",
      "metadata": {
        "id": "KqiHT18j9pEO"
      },
      "source": [
        "### Обучение модели и получение предикта"
      ]
    },
    {
      "cell_type": "code",
      "execution_count": null,
      "metadata": {
        "id": "B21FTIZDCiDI"
      },
      "outputs": [],
      "source": [
        "losses = []"
      ]
    },
    {
      "cell_type": "code",
      "execution_count": null,
      "metadata": {
        "colab": {
          "background_save": true
        },
        "id": "PuL85AN1CiDI"
      },
      "outputs": [],
      "source": [
        "input_length = target_length = seq_length\n",
        "\n",
        "SOS = code2word[\"<SOS>\"]\n",
        "EOS = code2word[\"<EOS>\"]\n",
        "\n",
        "epochs = 15\n",
        "\n",
        "for epoch in range(epochs):\n",
        "    for idx, batch in enumerate(train_dl):\n",
        "\n",
        "        # Creating initial hidden states for the encoder\n",
        "        encoder_hidden = encoder.initHidden()\n",
        "\n",
        "        # Sending to device\n",
        "        encoder_hidden = encoder_hidden.to(device)\n",
        "\n",
        "        # Assigning the input and sending to device\n",
        "        input_tensor = batch[0].to(device)\n",
        "\n",
        "        # Assigning the output and sending to device\n",
        "        target_tensor = batch[1].to(device)\n",
        "\n",
        "\n",
        "        # Clearing gradients\n",
        "        enc_optimizer.zero_grad()\n",
        "        dec_optimizer.zero_grad()\n",
        "\n",
        "        with torch.set_grad_enabled(True):\n",
        "\n",
        "            encoder_output, encoder_hidden = encoder(input_tensor, encoder_hidden)\n",
        "\n",
        "            dec_result = torch.zeros(target_length, batch_size, len(code2word)).to(device)\n",
        "\n",
        "            decoder_input = target_tensor[:, 0].unsqueeze(dim=0).to(device)\n",
        "\n",
        "            decoder_hidden = encoder_hidden\n",
        "\n",
        "            for i in range(1, target_length):\n",
        "\n",
        "                decoder_output, decoder_hidden = decoder(decoder_input, decoder_hidden)\n",
        "\n",
        "                best = decoder_output.argmax(1)\n",
        "\n",
        "                decoder_input = best.unsqueeze(dim=0)\n",
        "\n",
        "\n",
        "                dec_result[i] = decoder_output\n",
        "\n",
        "            scores = dec_result.transpose(1, 0)[1:].reshape(-1, dec_result.shape[2])\n",
        "            targets = target_tensor[1:].reshape(-1)\n",
        "\n",
        "            loss = criterion(scores, targets)\n",
        "\n",
        "            loss.backward()\n",
        "\n",
        "            torch.nn.utils.clip_grad_norm_(encoder.parameters(), max_norm=1)\n",
        "            torch.nn.utils.clip_grad_norm_(decoder.parameters(), max_norm=1)\n",
        "\n",
        "            enc_optimizer.step()\n",
        "            dec_optimizer.step()\n",
        "\n",
        "            losses.append(loss.item())\n",
        "            if idx % 16 == 0:\n",
        "                print('Эпоха: {} , idx: {}, нормированный loss {}'.format(epoch ,idx, sum(losses)/len(losses)))"
      ]
    },
    {
      "cell_type": "code",
      "execution_count": null,
      "metadata": {
        "id": "Bh_zcIaCQIUo"
      },
      "outputs": [],
      "source": [
        "plt.plot(losses)"
      ]
    },
    {
      "cell_type": "code",
      "execution_count": null,
      "metadata": {
        "id": "B88jeDwiIU_9"
      },
      "outputs": [],
      "source": [
        "index2code = {}\n",
        "for key, index in code2word.items():\n",
        "    index2code[index] = key"
      ]
    },
    {
      "cell_type": "code",
      "execution_count": null,
      "metadata": {
        "id": "P7HjeYE5IRMm"
      },
      "outputs": [],
      "source": [
        "X_test_tensor = torch.tensor(X_test_encoded)\n",
        "results= []\n",
        "for sample in X_test_tensor:\n",
        "    result = []\n",
        "    encoder_hidden = torch.zeros(1, 1, hidden_size)\n",
        "    encoder_hidden = encoder_hidden.to(device)\n",
        "\n",
        "    input_tensor = sample.to(device).unsqueeze(dim=0)\n",
        "\n",
        "    enc_optimizer.zero_grad()\n",
        "    dec_optimizer.zero_grad()\n",
        "\n",
        "\n",
        "    encoder_outputs = torch.zeros(seq_length, encoder.hidden_size, device=device)\n",
        "\n",
        "\n",
        "    with torch.set_grad_enabled(False):\n",
        "        encoder_output, encoder_hidden = encoder(input_tensor, encoder_hidden)\n",
        "\n",
        "        dec_result = torch.zeros(target_length, 1, len(code2word)).to(device)\n",
        "\n",
        "        decoder_input = torch.tensor([SOS]).unsqueeze(dim=0).to(device)\n",
        "        decoder_hidden = encoder_hidden\n",
        "        for di in range(1, target_length):\n",
        "            decoder_output, decoder_hidden = decoder(decoder_input, decoder_hidden)\n",
        "            best = decoder_output.argmax(1)\n",
        "            result.append(index2code[best.to('cpu').item()])\n",
        "            if best.item() == EOS:\n",
        "                break\n",
        "\n",
        "            decoder_input = best.unsqueeze(dim=0)\n",
        "            dec_result[di] = decoder_output\n",
        "        results.append(result)\n",
        "        scores = dec_result.reshape(-1, dec_result.shape[2])\n",
        "        targets = target_tensor.reshape(-1)"
      ]
    },
    {
      "cell_type": "code",
      "execution_count": null,
      "metadata": {
        "id": "4CrqXQe_Iizv"
      },
      "outputs": [],
      "source": [
        "results = [i[:-1] for i in results]"
      ]
    },
    {
      "cell_type": "code",
      "execution_count": null,
      "metadata": {
        "id": "_XvQaDoNInYp"
      },
      "outputs": [],
      "source": [
        "mapk(results,list(y_test))"
      ]
    },
    {
      "cell_type": "markdown",
      "metadata": {
        "id": "yoJpXctoAepg"
      },
      "source": [
        "### Вывод о GRU"
      ]
    },
    {
      "cell_type": "markdown",
      "metadata": {
        "id": "C5GthXt0Avul"
      },
      "source": [
        "В результате обучения на пределе вычислительных возможностей и использовании оптимальных параметров максимальный скор по map@k достиг примерно 0.16..., что очевидно не достаточно. При визуальном просмотре предиктов, можно увидить, что порой модель предсказывала самый частый mcc-код в истории клиента.\n",
        "\n",
        "Можно сделать вывод о том, что GRU не способна заглянуть так глубоко в историю клиента.\n",
        "\n",
        "__Решение:__ попробовать трансформер"
      ]
    },
    {
      "cell_type": "code",
      "execution_count": null,
      "metadata": {
        "id": "gq_gFpMPJDK6"
      },
      "outputs": [],
      "source": [
        "import torchmetrics\n",
        "import math"
      ]
    },
    {
      "cell_type": "code",
      "execution_count": null,
      "metadata": {
        "id": "wRnC8caXJtGg"
      },
      "outputs": [],
      "source": [
        "X = df_train['Data'].apply(lambda x: [int(i) for i in x.split(',')]).values\n",
        "X_train, X_val = X[:900], X[900:1200]\n",
        "y = df_train['Target'].apply(lambda x: [int(i) for i in x.split(',')]).values\n",
        "y_train, y_val = y[:900], y[900:1200]"
      ]
    },
    {
      "cell_type": "code",
      "execution_count": null,
      "metadata": {
        "id": "IMR7W4ZmJ05z"
      },
      "outputs": [],
      "source": [
        "def encode_and_pad(vocab, sent, max_length):\n",
        "    sos = [vocab[\"<SOS>\"]]\n",
        "    eos = [vocab[\"<EOS>\"]]\n",
        "    pad = [vocab[\"<PAD>\"]]\n",
        "\n",
        "    if len(sent) < max_length - 2: # -2 for SOS and EOS\n",
        "        n_pads = max_length - 2 - len(sent)\n",
        "        encoded = [vocab[w] for w in sent]\n",
        "        return sos + encoded + eos + pad * n_pads\n",
        "    else: # sent is longer than max_length; truncating\n",
        "        encoded = [vocab[w] for w in sent]\n",
        "        truncated = encoded[ : max_length -2]\n",
        "        return sos + truncated + eos"
      ]
    },
    {
      "cell_type": "code",
      "execution_count": null,
      "metadata": {
        "id": "a5wcPXHpJyRs"
      },
      "outputs": [],
      "source": [
        "code2index = [\"<PAD>\", \"<SOS>\", \"<EOS>\"]\n",
        "\n",
        "for ds in [X]:\n",
        "    for sent in ds:\n",
        "        for token in sent:\n",
        "            if token not in code2index:\n",
        "                code2index.append(token)\n",
        "\n",
        "code2index = {token: idx for idx, token in enumerate(code2index)}"
      ]
    },
    {
      "cell_type": "code",
      "execution_count": null,
      "metadata": {
        "id": "u7zfx8OdzQ93"
      },
      "outputs": [],
      "source": [
        "seq_length = 500"
      ]
    },
    {
      "cell_type": "code",
      "execution_count": null,
      "metadata": {
        "id": "PcwsQXfwt4dg"
      },
      "outputs": [],
      "source": [
        "X_train_encoded = [encode_and_pad(code2index, sent, seq_length) for sent in X_train]\n",
        "X_val_encoded = [encode_and_pad(code2index, sent, seq_length) for sent in X_val]\n",
        "y_train_encoded = [encode_and_pad(code2index, sent, 10) for sent in y_train]\n",
        "y_val_encoded = [encode_and_pad(code2index, sent, 10) for sent in y_val]"
      ]
    },
    {
      "cell_type": "code",
      "execution_count": null,
      "metadata": {
        "id": "jYEi71nlsVeD"
      },
      "outputs": [],
      "source": [
        "from torch.utils.data import DataLoader, TensorDataset\n",
        "batch_size = 128\n",
        "train_x = np.array(X_train_encoded)\n",
        "train_y = np.array(y_train_encoded)\n",
        "test_x = np.array(X_val_encoded)\n",
        "test_y = np.array(y_val_encoded)\n",
        "\n",
        "train_ds = TensorDataset(torch.from_numpy(train_x), torch.from_numpy(train_y))\n",
        "test_ds = TensorDataset(torch.from_numpy(test_x), torch.from_numpy(test_y))\n",
        "\n",
        "\n",
        "train_dataloader = DataLoader(train_ds, shuffle=True, batch_size=batch_size, drop_last=True)\n",
        "val_dataloader = DataLoader(test_ds, shuffle=True, batch_size=batch_size, drop_last=True)"
      ]
    },
    {
      "cell_type": "markdown",
      "metadata": {
        "id": "YAXqjLnhKMQW"
      },
      "source": [
        "### Transformer Model"
      ]
    },
    {
      "cell_type": "code",
      "execution_count": null,
      "metadata": {
        "id": "vZamhjU3MMo_"
      },
      "outputs": [],
      "source": [
        "class PositionalEncoding(nn.Module):\n",
        "    def __init__(self, dim_model, dropout_p, max_len):\n",
        "        super().__init__()\n",
        "\n",
        "        self.dropout = nn.Dropout(dropout_p)\n",
        "\n",
        "        pos_encoding = torch.zeros(max_len, dim_model)\n",
        "        positions_list = torch.arange(0, max_len, dtype=torch.float).view(-1, 1) # 0, 1, 2, 3, 4, 5\n",
        "        division_term = torch.exp(torch.arange(0, dim_model, 2).float() * (-math.log(10000.0)) / dim_model) # 1000^(2i/dim_model)\n",
        "       pos_encoding[:, 0::2] = torch.sin(positions_list * division_term)\n",
        "        pos_encoding[:, 1::2] = torch.cos(positions_list * division_term)\n",
        "\n",
        "        pos_encoding = pos_encoding.unsqueeze(0).transpose(0, 1)\n",
        "        self.register_buffer(\"pos_encoding\",pos_encoding)\n",
        "\n",
        "    def forward(self, token_embedding: torch.tensor) -> torch.tensor:\n",
        "        return self.dropout(token_embedding + self.pos_encoding[:token_embedding.size(0), :])"
      ]
    },
    {
      "cell_type": "code",
      "execution_count": null,
      "metadata": {
        "id": "QMuzh82TLqlA"
      },
      "outputs": [],
      "source": [
        "class Transformer(nn.Module):\n",
        "    def __init__(\n",
        "        self,\n",
        "        num_tokens,\n",
        "        dim_model,\n",
        "        num_heads,\n",
        "        num_encoder_layers,\n",
        "        num_decoder_layers,\n",
        "        dropout_p,\n",
        "    ):\n",
        "        super().__init__()\n",
        "\n",
        "        self.model_type = \"Transformer\"\n",
        "        self.dim_model = dim_model\n",
        "\n",
        "        # LAYERS\n",
        "        self.positional_encoder = PositionalEncoding(\n",
        "            dim_model=dim_model, dropout_p=dropout_p, max_len=500\n",
        "        )\n",
        "        self.embedding = nn.Embedding(num_tokens, dim_model)\n",
        "        self.transformer = nn.Transformer(\n",
        "            d_model=dim_model,\n",
        "            nhead=num_heads,\n",
        "            num_encoder_layers=num_encoder_layers,\n",
        "            num_decoder_layers=num_decoder_layers,\n",
        "            dropout=dropout_p,\n",
        "        )\n",
        "        self.out = nn.Linear(dim_model, num_tokens)\n",
        "\n",
        "    def forward(self, src, tgt, tgt_mask=None, src_pad_mask=None, tgt_pad_mask=None):\n",
        "        # Src size must be (batch_size, src sequence length)\n",
        "        # Tgt size must be (batch_size, tgt sequence length)\n",
        "\n",
        "        # Embedding + positional encoding - Out size = (batch_size, sequence length, dim_model)\n",
        "        src = self.embedding(src) * math.sqrt(self.dim_model)\n",
        "        tgt = self.embedding(tgt) * math.sqrt(self.dim_model)\n",
        "        src = self.positional_encoder(src)\n",
        "        tgt = self.positional_encoder(tgt)\n",
        "\n",
        "        # We could use the parameter batch_first=True, but our KDL version doesn't support it yet, so we permute\n",
        "        # to obtain size (sequence length, batch_size, dim_model),\n",
        "        src = src.permute(1,0,2)\n",
        "        tgt = tgt.permute(1,0,2)\n",
        "\n",
        "        # Transformer blocks - Out size = (sequence length, batch_size, num_tokens)\n",
        "        transformer_out = self.transformer(src, tgt, tgt_mask=tgt_mask, src_key_padding_mask=src_pad_mask, tgt_key_padding_mask=tgt_pad_mask)\n",
        "        out = self.out(transformer_out)\n",
        "\n",
        "        return out\n",
        "\n",
        "    def get_tgt_mask(self, size) -> torch.tensor:\n",
        "        # Generates a squeare matrix where the each row allows one word more to be seen\n",
        "        mask = torch.tril(torch.ones(size, size) == 1) # Lower triangular matrix\n",
        "        mask = mask.float()\n",
        "        mask = mask.masked_fill(mask == 0, float('-inf')) # Convert zeros to -inf\n",
        "        mask = mask.masked_fill(mask == 1, float(0.0)) # Convert ones to 0\n",
        "\n",
        "        # EX for size=5:\n",
        "        # [[0., -inf, -inf, -inf, -inf],\n",
        "        #  [0.,   0., -inf, -inf, -inf],\n",
        "        #  [0.,   0.,   0., -inf, -inf],\n",
        "        #  [0.,   0.,   0.,   0., -inf],\n",
        "        #  [0.,   0.,   0.,   0.,   0.]]\n",
        "\n",
        "        return mask\n",
        "\n",
        "    def create_pad_mask(self, matrix: torch.tensor, pad_token = 0) -> torch.tensor:\n",
        "      pad_token = 0\n",
        "      # If matrix = [1,2,3,0,0,0] where pad_token=0, the result mask is\n",
        "      # [False, False, False, True, True, True]\n",
        "      return (matrix == pad_token)"
      ]
    },
    {
      "cell_type": "markdown",
      "metadata": {
        "id": "gQ-YodqoRgcR"
      },
      "source": [
        "### Train и Validation"
      ]
    },
    {
      "cell_type": "code",
      "execution_count": null,
      "metadata": {
        "id": "Plp5I1iDNKod"
      },
      "outputs": [],
      "source": [
        "def train_loop(model, opt, loss_fn, dataloader):\n",
        "\n",
        "\n",
        "    model.train()\n",
        "    total_loss = 0\n",
        "\n",
        "    for batch in dataloader:\n",
        "        X, y = batch[0].to(device), batch[1].to(device)\n",
        "        #X, y = torch.tensor(X).to(device), torch.tensor(y).to(device)\"\"\"\n",
        "        \"\"\"X, y = batch[:, 0], batch[:, 1]\n",
        "        X, y = torch.tensor(X).to(device), torch.tensor(y).to(device)\"\"\"\n",
        "\n",
        "        # Now we shift the tgt by one so with the <SOS> we predict the token at pos 1\n",
        "        y_input = y[:,:-1]\n",
        "        y_expected = y[:,1:]\n",
        "\n",
        "        # Get mask to mask out the next words\n",
        "        sequence_length = y_input.size(1)\n",
        "        tgt_mask = model.get_tgt_mask(sequence_length).to(device)\n",
        "\n",
        "        # Standard training except we pass in y_input and tgt_mask\n",
        "        pred = model(X, y_input, tgt_mask)\n",
        "\n",
        "        # Permute pred to have batch size first again\n",
        "        pred = pred.permute(1, 2, 0)\n",
        "        loss = loss_fn(pred, y_expected)\n",
        "\n",
        "        opt.zero_grad()\n",
        "        loss.backward()\n",
        "        opt.step()\n",
        "\n",
        "        total_loss += loss.detach().item()\n",
        "\n",
        "    return total_loss / len(dataloader)"
      ]
    },
    {
      "cell_type": "code",
      "execution_count": null,
      "metadata": {
        "id": "4kxvRzqmNNw3"
      },
      "outputs": [],
      "source": [
        "def validation_loop(model, loss_fn, dataloader):\n",
        "    \"\"\"\n",
        "    \"\"\"\n",
        "\n",
        "    model.eval()\n",
        "    total_loss = 0\n",
        "\n",
        "    with torch.no_grad():\n",
        "        for batch in dataloader:\n",
        "            X, y = batch[0].to(device), batch[1].to(device)\n",
        "        #X, y = torch.tensor(X).to(device), torch.tensor(y).to(device)\n",
        "            '''X, y = batch[:, 0], batch[:, 1]\n",
        "            X, y = torch.tensor(X, dtype=torch.long, device=device), torch.tensor(y, dtype=torch.long, device=device)'''\n",
        "\n",
        "            # Now we shift the tgt by one so with the <SOS> we predict the token at pos 1\n",
        "            y_input = y[:,:-1]\n",
        "\n",
        "            y_expected = y[:,1:]\n",
        "\n",
        "            # Get mask to mask out the next words\n",
        "            sequence_length = y_input.size(1)\n",
        "            tgt_mask = model.get_tgt_mask(sequence_length).to(device)\n",
        "\n",
        "\n",
        "            # Standard training except we pass in y_input and src_mask\n",
        "            pred = model(X, y_input, tgt_mask)\n",
        "\n",
        "            # Permute pred to have batch size first again\n",
        "            pred = pred.permute(1, 2, 0)\n",
        "            loss = loss_fn(pred, y_expected)\n",
        "            total_loss += loss.detach().item()\n",
        "\n",
        "    return total_loss / len(dataloader)"
      ]
    },
    {
      "cell_type": "code",
      "execution_count": null,
      "metadata": {
        "id": "vLuNCtfaMxaQ"
      },
      "outputs": [],
      "source": [
        "model = Transformer(\n",
        "    num_tokens=187, dim_model=64, num_heads=8, num_encoder_layers=4, num_decoder_layers=4, dropout_p=0.1\n",
        ").to(device)\n",
        "opt = torch.optim.Adam(model.parameters(), lr=0.0009)\n",
        "loss_fn = nn.CrossEntropyLoss()"
      ]
    },
    {
      "cell_type": "code",
      "execution_count": null,
      "metadata": {
        "id": "dpH3F-B3NSEJ"
      },
      "outputs": [],
      "source": [
        "def fit(model, opt, loss_fn, train_dataloader, val_dataloader, epochs):\n",
        "    \"\"\"\n",
        "    \"\"\"\n",
        "\n",
        "    # Used for plotting later on\n",
        "    train_loss_list, validation_loss_list = [], []\n",
        "\n",
        "    print(\"Training and validating model\")\n",
        "    for epoch in range(epochs):\n",
        "        print(\"-\"*25, f\"Epoch {epoch + 1}\",\"-\"*25)\n",
        "\n",
        "        train_loss = train_loop(model, opt, loss_fn, train_dataloader)\n",
        "        train_loss_list += [train_loss]\n",
        "\n",
        "        validation_loss = validation_loop(model, loss_fn, val_dataloader)\n",
        "        validation_loss_list += [validation_loss]\n",
        "\n",
        "        print(f\"Training loss: {train_loss:.4f}\")\n",
        "        print(f\"Validation loss: {validation_loss:.4f}\")\n",
        "        print()\n",
        "\n",
        "    return train_loss_list, validation_loss_list\n",
        "\n",
        "train_loss_list, validation_loss_list = fit(model, opt, loss_fn, train_dataloader, val_dataloader, 30)"
      ]
    },
    {
      "cell_type": "code",
      "execution_count": null,
      "metadata": {
        "id": "lhD-rTgI0MRV"
      },
      "outputs": [],
      "source": [
        "def predict(model, input_sequence, max_length=10, SOS_token=1, EOS_token=2):\n",
        "    \"\"\"\n",
        "    Method from \"A detailed guide to Pytorch's nn.Transformer() module.\", by\n",
        "    Daniel Melchor: https://medium.com/@danielmelchor/a-detailed-guide-to-pytorchs-nn-transformer-module-c80afbc9ffb1\n",
        "    \"\"\"\n",
        "    model.eval()\n",
        "\n",
        "    y_input = torch.tensor([[SOS_token]], dtype=torch.long, device=device)\n",
        "\n",
        "\n",
        "    num_tokens = len(input_sequence[0])\n",
        "\n",
        "\n",
        "    for _ in range(max_length):\n",
        "        # Get source mask\n",
        "        tgt_mask = model.get_tgt_mask(y_input.size(1)).to(device)\n",
        "\n",
        "        pred = model(input_sequence, y_input, tgt_mask)\n",
        "        next_item = pred.topk(1)[1].view(-1)[-1].item() # num with highest probability\n",
        "        next_item = torch.tensor([[next_item]], device=device)\n",
        "\n",
        "        # Concatenate previous input with predicted best word\n",
        "        y_input = torch.cat((y_input, next_item), dim=1)\n",
        "\n",
        "        # Stop if model predicts end of sentence\n",
        "        if next_item.view(-1).item() == EOS_token:\n",
        "            break\n",
        "\n",
        "    return y_input.view(-1).tolist()"
      ]
    },
    {
      "cell_type": "code",
      "execution_count": null,
      "metadata": {
        "id": "-bc8VvBPY_oc"
      },
      "outputs": [],
      "source": [
        "index2code = {v: k for k, v in code2index.items()}"
      ]
    },
    {
      "cell_type": "code",
      "execution_count": null,
      "metadata": {
        "id": "q8VGiXkf0QGk"
      },
      "outputs": [],
      "source": [
        "for i in range(400, 500):\n",
        "  example = torch.tensor([X_train_encoded[i]], dtype=torch.long, device=device)\n",
        "  result = predict(model, example)\n",
        "  predict1 = []\n",
        "  for j in result[1:]:\n",
        "    predict1.append(index2code[j])\n",
        "  print(\"predict1: {} target: {}\".format(predict1, df_train.Target.iloc[i]))"
      ]
    },
    {
      "cell_type": "markdown",
      "metadata": {
        "id": "lda1HiOxKzfi"
      },
      "source": [
        "Код из следующей статьи - попытка оптимизировать обучение с помощью [аккумуляцией градиентов по микробатчам](https://sebastianraschka.com/blog/2023/llm-grad-accumulation.html#what-is-gradient-accumulation). Поскольку [размер батча крайне важен](https://openreview.net/forum?id=B1Yy1BxCZ) в обучении трансформеров.\n"
      ]
    },
    {
      "cell_type": "code",
      "execution_count": null,
      "metadata": {
        "id": "-04fgpBsAt8S"
      },
      "outputs": [],
      "source": [
        "def train(num_epochs, model, optimizer, train_loader, val_loader, fabric, accumulation_steps):\n",
        "\n",
        "    for epoch in range(num_epochs):\n",
        "        train_acc = torchmetrics.Accuracy(\n",
        "            task=\"multiclass\", num_classes=2).to(fabric.device)\n",
        "\n",
        "        for batch_idx, batch in enumerate(train_loader):\n",
        "            model.train()\n",
        "\n",
        "            ### FORWARD AND BACK PROP\n",
        "            outputs = model(\n",
        "                batch[\"input_ids\"],\n",
        "                attention_mask=batch[\"attention_mask\"],\n",
        "                labels=batch[\"label\"]\n",
        "            )\n",
        "\n",
        "            outputs[\"loss\"] = outputs[\"loss\"] / accumulation_steps\n",
        "            fabric.backward(outputs[\"loss\"])\n",
        "\n",
        "            ### UPDATE MODEL PARAMETERS\n",
        "            if not batch_idx % accumulation_steps:\n",
        "                optimizer.step()\n",
        "                optimizer.zero_grad()\n",
        "\n",
        "            ### LOGGING\n",
        "            if not batch_idx % 300:\n",
        "                print(f\"Epoch: {epoch+1:04d}/{num_epochs:04d} \"\n",
        "                      f\"| Batch {batch_idx:04d}/{len(train_loader):04d} \"\n",
        "                      f\"| Loss: {outputs['loss']:.4f}\")\n",
        "\n",
        "            model.eval()\n",
        "            with torch.no_grad():\n",
        "                predicted_labels = torch.argmax(outputs[\"logits\"], 1)\n",
        "                train_acc.update(predicted_labels, batch[\"label\"])\n",
        "\n",
        "        ### MORE LOGGING\n",
        "        model.eval()\n",
        "        with torch.no_grad():\n",
        "            val_acc = torchmetrics.Accuracy(task=\"multiclass\", num_classes=2).to(fabric.device)\n",
        "            for batch in val_loader:\n",
        "                outputs = model(\n",
        "                    batch[\"input_ids\"],\n",
        "                    attention_mask=batch[\"attention_mask\"],\n",
        "                    labels=batch[\"label\"]\n",
        "                )\n",
        "                predicted_labels = torch.argmax(outputs[\"logits\"], 1)\n",
        "                val_acc.update(predicted_labels, batch[\"label\"])\n",
        "\n",
        "            print(f\"Epoch: {epoch+1:04d}/{num_epochs:04d} \"\n",
        "                  f\"| Train acc.: {train_acc.compute()*100:.2f}% \"\n",
        "                  f\"| Val acc.: {val_acc.compute()*100:.2f}%\"\n",
        "                  )\n",
        "            train_acc.reset(), val_acc.reset()"
      ]
    },
    {
      "cell_type": "markdown",
      "metadata": {
        "id": "e210T2b2NIOY"
      },
      "source": [
        "### Вывод по трансформеру\n",
        "Поиграв с гиперпараметрами я понял, что для обучения тарнсформера, требуетсся гараздо большие вычислительные мощности. Повышение размера батча, голов Multi-head self attention или слоёв энеодеров или декодеров - всё это требует видео памяти. В результате подель недообучена, и порой на выход подаёт последовательность длиной меньше 10, а про качестово и говорит нечего."
      ]
    }
  ],
  "metadata": {
    "colab": {
      "collapsed_sections": [
        "vIqtUJHaXsHZ",
        "k-6AdRvAxbC-",
        "QBDdmDcW6alV",
        "6v2-vV0irJPi",
        "JtpdPWfRIgqn",
        "0IpGe7xazxHy",
        "6iADtA-56gc8",
        "PwSMLw7t63y8",
        "KqiHT18j9pEO",
        "yoJpXctoAepg",
        "YAXqjLnhKMQW"
      ],
      "provenance": []
    },
    "kernelspec": {
      "display_name": "Python 3",
      "name": "python3"
    },
    "language_info": {
      "name": "python"
    }
  },
  "nbformat": 4,
  "nbformat_minor": 0
}
